{
 "cells": [
  {
   "cell_type": "markdown",
   "metadata": {},
   "source": [
    "# 8 \n",
    "# A Brief Introduction to Neural Networks"
   ]
  },
  {
   "cell_type": "markdown",
   "metadata": {},
   "source": [
    "## Module Topics\n",
    " * Perceptron / Neuron\n",
    " * Neural Networks\n",
    " * Feed Forward\n",
    " * Back Propagation\n",
    "   - Gradient descent\n"
   ]
  },
  {
   "cell_type": "markdown",
   "metadata": {},
   "source": [
    "## Review\n",
    "\n",
    "Please review the Stat/Math content (Module 5):\n",
    "  * Multiple Regression \n",
    "  * Logistic Regression\n",
    "\n",
    "\n",
    "**Free Text Book**\n",
    "\n",
    "* [Deep Learning: Ian Goodfellow and Yoshua Bengio and Aaron Courville](https://www.deeplearningbook.org/)\n",
    "* [Dive into Deep Learning: Aston Zhang, Zachary C. Lipton, Mu Li, and Alexander J. Smola](https://d2l.ai/d2l-en-pytorch.pdf)\n",
    "* [Deep Learning with PyTorch](https://pytorch.org/assets/deep-learning/Deep-Learning-with-PyTorch.pdf)\n",
    "    * [Related Slides](https://github.com/t-vi/acdl2020/raw/master/pytorch_introduction_slides.pdf)\n",
    "* [Neural Networks and Deep Learning:  Michael Nielsen](http://neuralnetworksanddeeplearning.com/)\n",
    "\n",
    "\n",
    "## Readings\n",
    "\n",
    "* Introduction to Neural Network [[Slides](./slides/neural-net.pdf)]\n",
    "* [Video: But what is a Neural Network?](https://www.youtube.com/watch?v=aircAruvnKk)\n",
    "* [A Quick Introduction to Neural Networks](https://ujjwalkarn.me/2016/08/09/quick-intro-neural-networks/)\n",
    "* [Introduction to Neural Networks](https://www.explainthatstuff.com/introduction-to-neural-networks.html)\n",
    "* [What is a perceptron?](https://en.wikipedia.org/wiki/Perceptron)\n",
    "\n",
    "\n",
    "\n",
    "### Optional Reading\n",
    "* [Video: Gradient descent, how neural networks learn](https://www.youtube.com/watch?v=IHZwWFHWa-w&list=PLZHQObOWTQDNU6R1_67000Dx_ZCJB-3pi&index=2&t=1057s)\n",
    "* [Video: What is backpropagation really doing?](https://www.youtube.com/watch?v=Ilg3gGewQ5U&list=PLZHQObOWTQDNU6R1_67000Dx_ZCJB-3pi&index=3)\n",
    "* [Video: Backpropagation calculus](https://www.youtube.com/watch?v=tIeHLnjs5U8&list=PLZHQObOWTQDNU6R1_67000Dx_ZCJB-3pi&index=4)\n",
    "* [For Dummies — The Introduction to Neural Networks we all need !](https://medium.com/technologymadeeasy/for-dummies-the-introduction-to-neural-networks-we-all-need-c50f6012d5eb)\n",
    "* [The Neural Network Zoo](http://www.asimovinstitute.org/neural-network-zoo/)"
   ]
  },
  {
   "cell_type": "markdown",
   "metadata": {},
   "source": [
    "# <span style=\"background-color:yellow\"> NOTE: please use PyTorch - CPU container for the labs and practices </span>\n",
    "\n",
    "## Labs\n",
    "\n",
    "\n",
    "* [Data Structure: Tensors](./labs/tensor_tutorial.ipynb)\n",
    "* [Basic Neural Networks](./labs/NN-Intro.ipynb)"
   ]
  },
  {
   "cell_type": "markdown",
   "metadata": {},
   "source": [
    "## Practices\n",
    "\n",
    "* [Iris Classifciation](./practices/NN_Iris-Practice.ipynb)\n",
    " "
   ]
  },
  {
   "cell_type": "markdown",
   "metadata": {},
   "source": [
    "## Exercises\n",
    "\n",
    "\n",
    "  * [TF Playground](./exercises/TensorFlow_Playground.ipynb)\n",
    " "
   ]
  },
  {
   "cell_type": "markdown",
   "metadata": {},
   "source": [
    "## Submitting your work\n",
    "\n",
    "#### Steps:\n",
    "  1. Open Terminal in JupyterHub\n",
    "  1. Change into the course folder\n",
    "  1. Stage (Git Add) the module's practive and exercise work   \n",
    "  `git  add   module5/practices    module5/exercises`\n",
    "  1. Create your work snapshot (Git Commit)  \n",
    "  `git   commit   -m   \"Module 5 submission\"`\n",
    "  1. Upload the snapshot to the server (Git Push)  \n",
    "  `git   push`\n"
   ]
  },
  {
   "cell_type": "markdown",
   "metadata": {},
   "source": [
    "\n",
    "\n",
    "## Congratulations, you have completed the learning activities for this course!"
   ]
  }
 ],
 "metadata": {
  "kernelspec": {
   "display_name": "Python 3",
   "language": "python",
   "name": "python3"
  },
  "language_info": {
   "codemirror_mode": {
    "name": "ipython",
    "version": 3
   },
   "file_extension": ".py",
   "mimetype": "text/x-python",
   "name": "python",
   "nbconvert_exporter": "python",
   "pygments_lexer": "ipython3",
   "version": "3.7.3"
  }
 },
 "nbformat": 4,
 "nbformat_minor": 2
}
