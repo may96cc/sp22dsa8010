{
 "cells": [
  {
   "cell_type": "markdown",
   "metadata": {},
   "source": [
    "# 0\n",
    "# Introduction to DATA SCI Course"
   ]
  },
  {
   "cell_type": "markdown",
   "metadata": {},
   "source": [
    "## Module Topics\n",
    "\n",
    "* Getting Started\n",
    "* pandas\n",
    "\n"
   ]
  },
  {
   "cell_type": "markdown",
   "metadata": {},
   "source": [
    "## Labs\n",
    " \n",
    "* Jupyter Computing Environment\n",
    "    * Reading: [JupyterHub  System](./resources/JupyterHub_Learning.ipynb)     \n",
    "    * Reading: [JupyterHub Usage](./resources/JupyterHub_Usage.ipynb)\n",
    "    * Reading: [Some Hints and Tips on Using Jupyter Hub](./resources/jupyter_tips.ipynb)\n",
    "    * Reading: [Submission of Work](./resources/CommittingWork.ipynb) (This will be helpful when you submit your assignment)\n",
    " \n",
    "* Python\n",
    "    * Free book : [Think Python](https://greenteapress.com/wp/think-python-2e/) \n",
    "    * Sample Labs: \n",
    "        * [Variables and Operators](./labs/Variables-Operators-Output-Input.ipynb)\n",
    "        * [Printing-Detailed](./labs/Print.ipynb) \n",
    "\n",
    "* Pandas Review\n",
    "    * [Lab](./labs/Processing.ipynb) \n",
    "        * [Video](https://youtu.be/u-6Qve6tFCw)"
   ]
  },
  {
   "cell_type": "markdown",
   "metadata": {},
   "source": [
    "## Congratulations, you have completed the learning activities for this module!"
   ]
  }
 ],
 "metadata": {
  "kernelspec": {
   "display_name": "Python 3",
   "language": "python",
   "name": "python3"
  },
  "language_info": {
   "codemirror_mode": {
    "name": "ipython",
    "version": 3
   },
   "file_extension": ".py",
   "mimetype": "text/x-python",
   "name": "python",
   "nbconvert_exporter": "python",
   "pygments_lexer": "ipython3",
   "version": "3.7.3"
  }
 },
 "nbformat": 4,
 "nbformat_minor": 4
}
