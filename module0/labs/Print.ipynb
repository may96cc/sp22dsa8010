{
 "cells": [
  {
   "cell_type": "markdown",
   "metadata": {},
   "source": [
    "# Printing Output\n",
    "This Notebook is derived from the [Python Lecture Series](https://github.com/rajathkumarmp/Python-Lectures) \n",
    "\n",
    "## Table of Contents\n",
    "* [Print Statement](#Print-Statement)\n",
    "* [PrecisionWidth and FieldWidth](#PrecisionWidth-and-FieldWidth)"
   ]
  },
  {
   "cell_type": "markdown",
   "metadata": {},
   "source": [
    "# Print Statement"
   ]
  },
  {
   "cell_type": "markdown",
   "metadata": {},
   "source": [
    "The **print** statement can be used in *several* different ways :\n",
    "\n",
    "    - print(\"Hello World\")\n",
    "    - print(\"Hello\", <Variable Containing the String>)  # old-style\n",
    "    - print(\"Hello\" + <Variable Containing the String>)  # old-style\n",
    "    - print(\"Hello %s\" % <variable containing the string>)  # old-style\n",
    "    - print(\"Hello {}\".format(<variable containing the string>))  # new-style\n",
    "    - print(f\"Hello {<variable containing the string>}\")  # new-style\n",
    "    \n",
    "For everything that print can do, we refer you to the online documentation:\n",
    "https://docs.python.org/3.5/library/functions.html?highlight=print#print  "
   ]
  },
  {
   "cell_type": "code",
   "execution_count": 2,
   "metadata": {},
   "outputs": [
    {
     "name": "stdout",
     "output_type": "stream",
     "text": [
      "AML_8010\n"
     ]
    }
   ],
   "source": [
    "print(\"AML_8010\")"
   ]
  },
  {
   "cell_type": "markdown",
   "metadata": {},
   "source": [
    "**In Python, single, double, and triple quotes are used to denote a string.**\n",
    "Most use single quotes when declaring a single character,\n",
    "double quotes when declaring a line, and triple quotes when declaring a paragraph or multiple lines.\n",
    "PEP8 is the Python standard for how to write readable Python code, and has the following to say on the matter:\n",
    "\n",
    "\"In Python, single-quoted strings and double-quoted strings are the same. This PEP does not make a recommendation for this. Pick a rule and stick to it. When a string contains single or double quote characters, however, use the other one to avoid backslashes in the string. It improves readability.\n",
    "\n",
    "For triple-quoted strings, always use double quote characters to be consistent with the docstring convention in PEP 257 .\"\n",
    "\n",
    "https://www.python.org/dev/peps/pep-0008/#string-quotes  "
   ]
  },
  {
   "cell_type": "code",
   "execution_count": 3,
   "metadata": {},
   "outputs": [
    {
     "name": "stdout",
     "output_type": "stream",
     "text": [
      "Hey\n"
     ]
    }
   ],
   "source": [
    "print('Hey')"
   ]
  },
  {
   "cell_type": "code",
   "execution_count": 4,
   "metadata": {},
   "outputs": [
    {
     "name": "stdout",
     "output_type": "stream",
     "text": [
      "My name is Charles.\n",
      "\n",
      "I love Python and DataScience.\n",
      "---------------\n",
      "This is another example of       multi-line string.\n"
     ]
    }
   ],
   "source": [
    "print(\"\"\"My name is Charles.\n",
    "\n",
    "I love Python and DataScience.\"\"\")\n",
    "\n",
    "print(\"-\" * 15)  # print the '-' char 15 times followed by a newline\n",
    "\n",
    "print(\"This is another example of \\\n",
    "      multi-line string.\")"
   ]
  },
  {
   "cell_type": "markdown",
   "metadata": {},
   "source": [
    "Strings can be assigned to variables, say _string1_ and _string2_, which can be called when using the print statement.  \n",
    "**Notice that variables printed this way will automatically be space-separated.**"
   ]
  },
  {
   "cell_type": "code",
   "execution_count": 5,
   "metadata": {
    "scrolled": true
   },
   "outputs": [
    {
     "name": "stdout",
     "output_type": "stream",
     "text": [
      "Hello World\n",
      "Hello World !\n"
     ]
    }
   ],
   "source": [
    "string1 = 'World'\n",
    "print('Hello', string1)\n",
    "\n",
    "\n",
    "string2 = '!'\n",
    "print ('Hello', string1, string2)\n"
   ]
  },
  {
   "cell_type": "markdown",
   "metadata": {},
   "source": [
    "String concatenation is the \"addition\" of two strings. Observe that when concatenating there will be no space between the strings."
   ]
  },
  {
   "cell_type": "code",
   "execution_count": null,
   "metadata": {},
   "outputs": [],
   "source": [
    "print('Hello' + string1 + string2)"
   ]
  },
  {
   "cell_type": "markdown",
   "metadata": {},
   "source": [
    "**%s** is used to refer to a variable which contains a string."
   ]
  },
  {
   "cell_type": "code",
   "execution_count": 6,
   "metadata": {},
   "outputs": [
    {
     "name": "stdout",
     "output_type": "stream",
     "text": [
      "Hello World\n"
     ]
    }
   ],
   "source": [
    "print(\"Hello %s\" % string1)"
   ]
  },
  {
   "cell_type": "markdown",
   "metadata": {},
   "source": [
    "Similarly these are the formatting codes when using other data types:\n",
    "\n",
    "    - %s -> Atring\n",
    "    - %d -> Integer\n",
    "    - %f -> Float\n",
    "    - %o -> Octal\n",
    "    - %x -> Hexadecimal\n",
    "    - %e -> Exponential\n",
    "    \n",
    "This can be used for conversions inside the print statement itself.\n",
    "For complete information on format specifiers, we refer you again to the official documentation:\n",
    "https://docs.python.org/3/library/string.html#format-examples  \n",
    "\n",
    "Note: These docs have been adopted from an open source project that deals with Python 2. As such, this section of using sprintf() style formatting is now considered old, and .format() should be used instead. The documentation link above talks at length about this. It is best to quickly look over the following, and the refer to the docs.\n"
   ]
  },
  {
   "cell_type": "code",
   "execution_count": 7,
   "metadata": {},
   "outputs": [
    {
     "name": "stdout",
     "output_type": "stream",
     "text": [
      "Actual Number = 18\n",
      "Float of the number = 18.000000\n",
      "Octal equivalent of the number = 22\n",
      "Hexadecimal equivalent of the number = 12\n",
      "Exponential equivalent of the number = 1.800000e+01\n"
     ]
    }
   ],
   "source": [
    "print(\"Actual Number = %d\" % 18)\n",
    "print(\"Float of the number = %f\" % 18)\n",
    "print(\"Octal equivalent of the number = %o\" % 18)\n",
    "print(\"Hexadecimal equivalent of the number = %x\" % 18)\n",
    "print(\"Exponential equivalent of the number = %e\" % 18)"
   ]
  },
  {
   "cell_type": "markdown",
   "metadata": {},
   "source": [
    "When referring to multiple variables parenthesis is used."
   ]
  },
  {
   "cell_type": "code",
   "execution_count": 8,
   "metadata": {},
   "outputs": [
    {
     "name": "stdout",
     "output_type": "stream",
     "text": [
      "Hello World !\n",
      "Hello World !\n",
      "Hello World !\n",
      "Hello ! World\n",
      "Hello World !\n",
      "Hello World !\n"
     ]
    }
   ],
   "source": [
    "print(\"Hello %s %s\" %(string1, string2))  # old-fashioned\n",
    "print(\"Hello {} {}\".format(string1, string2)) # introduced in python 3.6 \n",
    "print(\"Hello {0} {1}\".format(string1, string2)) \n",
    "print(\"Hello {1} {0}\".format(string1, string2))\n",
    "print(\"Hello {x} {y}\".format(x=string1, y=string2)) \n",
    "print(f\"Hello {string1} {string2}\") # introduced in python 3.6. An improved syntax."
   ]
  },
  {
   "cell_type": "markdown",
   "metadata": {},
   "source": [
    "## Other Examples"
   ]
  },
  {
   "cell_type": "markdown",
   "metadata": {},
   "source": [
    "The following are other different ways the print statement can be put to use."
   ]
  },
  {
   "cell_type": "code",
   "execution_count": 9,
   "metadata": {},
   "outputs": [
    {
     "name": "stdout",
     "output_type": "stream",
     "text": [
      "I want %d to be printed here\n"
     ]
    }
   ],
   "source": [
    "print(\"I want %%d to be printed %s\" %'here')"
   ]
  },
  {
   "cell_type": "code",
   "execution_count": 10,
   "metadata": {},
   "outputs": [
    {
     "name": "stdout",
     "output_type": "stream",
     "text": [
      "_A_A_A_A_A_A_A_A_A_A\n"
     ]
    }
   ],
   "source": [
    "print('_A'*10)"
   ]
  },
  {
   "cell_type": "code",
   "execution_count": 11,
   "metadata": {},
   "outputs": [
    {
     "name": "stdout",
     "output_type": "stream",
     "text": [
      "Jan\n",
      "Feb\n",
      "Mar\n",
      "Apr\n",
      "May\n",
      "Jun\n",
      "Jul\n",
      "Aug\n"
     ]
    }
   ],
   "source": [
    "print(\"Jan\\nFeb\\nMar\\nApr\\nMay\\nJun\\nJul\\nAug\")"
   ]
  },
  {
   "cell_type": "code",
   "execution_count": 12,
   "metadata": {},
   "outputs": [
    {
     "name": "stdout",
     "output_type": "stream",
     "text": [
      "I want \\n to be printed.\n"
     ]
    }
   ],
   "source": [
    "print(\"I want \\\\n to be printed.\")"
   ]
  },
  {
   "cell_type": "code",
   "execution_count": 13,
   "metadata": {},
   "outputs": [
    {
     "name": "stdout",
     "output_type": "stream",
     "text": [
      "\n",
      "Routine:\n",
      "\t- Eat\n",
      "\t- Sleep\n",
      "\t- Repeat\n",
      "\n"
     ]
    }
   ],
   "source": [
    "print(\"\"\"\n",
    "Routine:\n",
    "\\t- Eat\n",
    "\\t- Sleep\\n\\t- Repeat\n",
    "\"\"\")"
   ]
  },
  {
   "cell_type": "markdown",
   "metadata": {},
   "source": [
    "** Special Print Characters ** : Note in the few examples above the use of `\\n`, `\\t`, `\\\\`, and the corresponding output (newline, tab, \\\\). See table on page (https://docs.python.org/2.0/ref/strings.html).  "
   ]
  },
  {
   "cell_type": "markdown",
   "metadata": {},
   "source": [
    "# PrecisionWidth and FieldWidth"
   ]
  },
  {
   "cell_type": "markdown",
   "metadata": {},
   "source": [
    "Fieldwidth is the width of the entire number and precision is the width after the decimal. One can alter these widths based on the requirements.\n",
    "\n",
    "The default precision width is set to 6."
   ]
  },
  {
   "cell_type": "code",
   "execution_count": 14,
   "metadata": {},
   "outputs": [
    {
     "name": "stdout",
     "output_type": "stream",
     "text": [
      "3.121312\n",
      "3.121312\n",
      "3.121312\n"
     ]
    }
   ],
   "source": [
    "print(\"%f\" % 3.121312312312)\n",
    "print(\"{:f}\".format(3.121312312312))\n",
    "print(f\"{3.121312312312:f}\")"
   ]
  },
  {
   "cell_type": "markdown",
   "metadata": {},
   "source": [
    "Notice up to 6 decimal points are returned. To specify the number of decimal points, '%(fieldwidth).(precisionwidth)f' is used."
   ]
  },
  {
   "cell_type": "code",
   "execution_count": 15,
   "metadata": {},
   "outputs": [
    {
     "name": "stdout",
     "output_type": "stream",
     "text": [
      "3.121\n",
      "3.121\n",
      "3.121\n"
     ]
    }
   ],
   "source": [
    "print(\"%.3f\" % 3.121312312312)\n",
    "print(\"{:.3f}\".format(3.121312312312))\n",
    "print(f\"{3.121312312312:.3f}\")"
   ]
  },
  {
   "cell_type": "markdown",
   "metadata": {},
   "source": [
    "If the field width is set more than the necessary than the data right aligns itself to adjust to the specified values."
   ]
  },
  {
   "cell_type": "code",
   "execution_count": 16,
   "metadata": {},
   "outputs": [
    {
     "name": "stdout",
     "output_type": "stream",
     "text": [
      "  3.12131\n",
      "  3.12131\n",
      "  3.12131\n"
     ]
    }
   ],
   "source": [
    "print(\"%9.5f\" % 3.121312312312)\n",
    "print(\"{:9.5f}\".format(3.121312312312))\n",
    "print(f\"{3.121312312312:9.5f}\")\n",
    "# compare the indentation between previous output and this output"
   ]
  },
  {
   "cell_type": "markdown",
   "metadata": {},
   "source": [
    "Padding with zeros is done by adding a 0 at the start of fieldwidth."
   ]
  },
  {
   "cell_type": "code",
   "execution_count": 17,
   "metadata": {},
   "outputs": [
    {
     "name": "stdout",
     "output_type": "stream",
     "text": [
      "003.12131\n",
      "003.12131\n",
      "003.12131\n"
     ]
    }
   ],
   "source": [
    "print(\"%09.5f\" % 3.121312312312)\n",
    "print(\"{:09.5f}\".format(3.121312312312))\n",
    "print(f\"{3.121312312312:09.5f}\")"
   ]
  },
  {
   "cell_type": "markdown",
   "metadata": {},
   "source": [
    "For proper alignment, a space can be left blank in the field width so that when a negative number is used, proper alignment is maintained."
   ]
  },
  {
   "cell_type": "code",
   "execution_count": 18,
   "metadata": {},
   "outputs": [
    {
     "name": "stdout",
     "output_type": "stream",
     "text": [
      " 3.121312\n",
      "-3.121312\n",
      "-3.121312\n",
      "-3.121312\n"
     ]
    }
   ],
   "source": [
    "print(\"%9f\" % 3.121312312312)\n",
    "print(\"%9f\" % -3.121312312312)\n",
    "print(\"{:9f}\".format(-3.121312312312))\n",
    "print(f\"{-3.121312312312:9f}\")"
   ]
  },
  {
   "cell_type": "markdown",
   "metadata": {},
   "source": [
    "A '+' sign can be returned at the beginning of a positive number by adding a + sign at the beginning of the field width."
   ]
  },
  {
   "cell_type": "code",
   "execution_count": 19,
   "metadata": {},
   "outputs": [
    {
     "name": "stdout",
     "output_type": "stream",
     "text": [
      "+3.121312\n",
      "+3.121312\n",
      "+3.121312\n",
      "-3.121312\n"
     ]
    }
   ],
   "source": [
    "print(\"%+9f\" % 3.121312312312)\n",
    "print(\"{:+9f}\".format(3.121312312312))\n",
    "print(f\"{3.121312312312:+9f}\")\n",
    "print(\"% 9f\" % -3.121312312312)"
   ]
  },
  {
   "cell_type": "markdown",
   "metadata": {},
   "source": [
    "As mentioned above, the data right aligns itself when the field width mentioned is larger than the actually field width. But left alignment can be done by specifying a negative symbol in the field width."
   ]
  },
  {
   "cell_type": "code",
   "execution_count": 20,
   "metadata": {},
   "outputs": [
    {
     "name": "stdout",
     "output_type": "stream",
     "text": [
      "3.121    \n",
      "3.121    \n",
      "3.121    \n"
     ]
    }
   ],
   "source": [
    "print(\"%-9.3f\" % 3.121312312312)\n",
    "print(\"{:<9.3f}\".format(3.121312312312))\n",
    "print(f\"{3.121312312312:<9.3f}\")"
   ]
  },
  {
   "cell_type": "code",
   "execution_count": null,
   "metadata": {},
   "outputs": [],
   "source": []
  }
 ],
 "metadata": {
  "kernelspec": {
   "display_name": "Python 3",
   "language": "python",
   "name": "python3"
  },
  "language_info": {
   "codemirror_mode": {
    "name": "ipython",
    "version": 3
   },
   "file_extension": ".py",
   "mimetype": "text/x-python",
   "name": "python",
   "nbconvert_exporter": "python",
   "pygments_lexer": "ipython3",
   "version": "3.7.3"
  }
 },
 "nbformat": 4,
 "nbformat_minor": 4
}
