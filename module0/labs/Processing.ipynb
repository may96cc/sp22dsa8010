{
 "cells": [
  {
   "cell_type": "markdown",
   "metadata": {},
   "source": [
    "# Processing\n",
    "\n",
    "This is a quick review of outlier detection and feature selection and various technical details in data carpentry.\n",
    "\n",
    "In this session, examples covered are:\n",
    "\n",
    "* Delete columns\n",
    "* Convert column into binary\n",
    "* Convert column into np.datetime\n",
    "* Find unique values in a column\n",
    "* Iterating through columns and excluding columns from iteration\n",
    "* Drop rows from data frame\n",
    "* One-hot encode string column\n",
    "* Subset dataframe by columns\n",
    "* Subset dataframe by rows\n",
    "* Resample dataset\n",
    "\n",
    "\n",
    "We will walk them through with minimum examples."
   ]
  },
  {
   "cell_type": "code",
   "execution_count": null,
   "metadata": {},
   "outputs": [],
   "source": [
    "import os, sys\n",
    "import itertools\n",
    "import random\n",
    "import numpy as np \n",
    "import pandas as pd\n",
    "\n",
    "class Example(object):\n",
    "    def __init__(self, inspecting = True):\n",
    "        \"\"\" Reset dataset for each example. \"\"\"\n",
    "        global dataset\n",
    "        dataset = pd.read_csv('processing_examples.csv')\n",
    "        self.inspecting = inspecting\n",
    "        \n",
    "    def __enter__(self):\n",
    "        if self.inspecting:\n",
    "            print('====== before ======')\n",
    "            print(dataset)\n",
    "            \n",
    "    def __exit__(self, type, value, traceback):\n",
    "        if self.inspecting:\n",
    "            print('====== after ======')\n",
    "            print(dataset)\n"
   ]
  },
  {
   "cell_type": "markdown",
   "metadata": {},
   "source": [
    "This shows an example of zeroing out all elements in a dataset,  \n",
    "just so to make sure you could understand the syntax we are using in this lab  \n",
    "and quickly show what jobs these above functions do."
   ]
  },
  {
   "cell_type": "code",
   "execution_count": null,
   "metadata": {},
   "outputs": [],
   "source": [
    "with Example():\n",
    "    dataset.iloc[:, :] = 0"
   ]
  },
  {
   "cell_type": "markdown",
   "metadata": {},
   "source": [
    "## Delete a column"
   ]
  },
  {
   "cell_type": "code",
   "execution_count": null,
   "metadata": {},
   "outputs": [],
   "source": [
    "with Example():\n",
    "    ret = dataset.drop('float', axis = 1)\n",
    "    print('====== returns ======')\n",
    "    print(ret)"
   ]
  },
  {
   "cell_type": "code",
   "execution_count": null,
   "metadata": {},
   "outputs": [],
   "source": [
    "with Example():\n",
    "    ret = dataset.drop('float', inplace = True, axis = 1)\n",
    "    print('====== returns ======')\n",
    "    print(ret)"
   ]
  },
  {
   "cell_type": "markdown",
   "metadata": {},
   "source": [
    "**Recommended way**"
   ]
  },
  {
   "cell_type": "code",
   "execution_count": null,
   "metadata": {},
   "outputs": [],
   "source": [
    "with Example():\n",
    "    del dataset['float']"
   ]
  },
  {
   "cell_type": "markdown",
   "metadata": {},
   "source": [
    "## Convert column into binary"
   ]
  },
  {
   "cell_type": "code",
   "execution_count": null,
   "metadata": {},
   "outputs": [],
   "source": [
    "with Example():\n",
    "    dataset['yes/no'] = dataset['yes/no'].apply(['Yes', 'No'].index)"
   ]
  },
  {
   "cell_type": "code",
   "execution_count": null,
   "metadata": {},
   "outputs": [],
   "source": [
    "with Example():\n",
    "    dataset['yes/no'] = list(map(['Yes', 'No'].index, dataset['yes/no']))"
   ]
  },
  {
   "cell_type": "markdown",
   "metadata": {},
   "source": [
    "map() takes a function and an iterable object and applies the function\n",
    "to all elements of that iterable object."
   ]
  },
  {
   "cell_type": "code",
   "execution_count": null,
   "metadata": {},
   "outputs": [],
   "source": [
    "a = [0,2,4]\n",
    "list(map(lambda x:x+1, a))"
   ]
  },
  {
   "cell_type": "markdown",
   "metadata": {},
   "source": [
    "## Convert column into np.datatime"
   ]
  },
  {
   "cell_type": "code",
   "execution_count": null,
   "metadata": {},
   "outputs": [],
   "source": [
    "with Example():\n",
    "    dataset['date'] = dataset['date'].apply(np.datetime64)\n",
    "    \n",
    "print(type(dataset['date'][0]))"
   ]
  },
  {
   "cell_type": "code",
   "execution_count": null,
   "metadata": {},
   "outputs": [],
   "source": [
    "with Example():\n",
    "    dataset['date'] = dataset['date'].apply(np.datetime64)\n",
    "    print('====== day ======')\n",
    "    print(dataset['date'].apply(lambda d: d.day))"
   ]
  },
  {
   "cell_type": "code",
   "execution_count": null,
   "metadata": {},
   "outputs": [],
   "source": [
    "with Example():\n",
    "    dataset['date'] = dataset['date'].apply(np.datetime64)\n",
    "    print('====== day ======')\n",
    "    print(dataset['date'].apply(lambda d: d.month))"
   ]
  },
  {
   "cell_type": "markdown",
   "metadata": {},
   "source": [
    "## Find unique values in a column"
   ]
  },
  {
   "cell_type": "code",
   "execution_count": null,
   "metadata": {},
   "outputs": [],
   "source": [
    "Example(inspecting = False)\n",
    "\n",
    "np.unique(dataset['categorical'])"
   ]
  },
  {
   "cell_type": "markdown",
   "metadata": {},
   "source": [
    "## Iterating through columns"
   ]
  },
  {
   "cell_type": "code",
   "execution_count": null,
   "metadata": {},
   "outputs": [],
   "source": [
    "Example(inspecting = False)\n",
    "\n",
    "for column_name in ['int', 'categorical']:\n",
    "    print(dataset[column_name].head())"
   ]
  },
  {
   "cell_type": "code",
   "execution_count": null,
   "metadata": {},
   "outputs": [],
   "source": [
    "Example(inspecting = False)\n",
    "\n",
    "for column_name in dataset.columns:\n",
    "    print(dataset[column_name].head())"
   ]
  },
  {
   "cell_type": "code",
   "execution_count": null,
   "metadata": {},
   "outputs": [],
   "source": [
    "Example(inspecting = False)\n",
    "\n",
    "for column_name in np.array(dataset.columns)[[2,4]]:\n",
    "    print(dataset[column_name].head())"
   ]
  },
  {
   "cell_type": "code",
   "execution_count": null,
   "metadata": {},
   "outputs": [],
   "source": [
    "Example(inspecting = False)\n",
    "\n",
    "for column_name in np.array(dataset.columns)[[False, True, False, False, True]]:\n",
    "    print(dataset[column_name].head())"
   ]
  },
  {
   "cell_type": "markdown",
   "metadata": {},
   "source": [
    "## Iterating through columns with exclusions"
   ]
  },
  {
   "cell_type": "code",
   "execution_count": null,
   "metadata": {},
   "outputs": [],
   "source": [
    "Example(inspecting = False)\n",
    "\n",
    "exclusion = ['float', 'yes/no', 'date']\n",
    "\n",
    "for column_name in set(dataset.columns)-set(exclusion):\n",
    "    print(dataset[column_name].head())"
   ]
  },
  {
   "cell_type": "code",
   "execution_count": null,
   "metadata": {},
   "outputs": [],
   "source": [
    "Example(inspecting = False)\n",
    "\n",
    "exclusion = [0,2,3]\n",
    "\n",
    "for column_name in set(dataset.columns)-set(np.array(dataset.columns)[exclusion]):\n",
    "    print(dataset[column_name].head())"
   ]
  },
  {
   "cell_type": "code",
   "execution_count": null,
   "metadata": {},
   "outputs": [],
   "source": [
    "Example(inspecting = False)\n",
    "\n",
    "exclusion = [0,2,3]\n",
    "\n",
    "for column_name in [v for i,v in enumerate(dataset.columns) if i not in exclusion]:\n",
    "    print(dataset[column_name].head())"
   ]
  },
  {
   "cell_type": "code",
   "execution_count": null,
   "metadata": {},
   "outputs": [],
   "source": [
    "Example(inspecting = False)\n",
    "\n",
    "exclusion = [True, False, True, True, False]\n",
    "\n",
    "for column_name in np.array(dataset.columns)[~np.array(exclusion)]:\n",
    "    print(dataset[column_name].head())"
   ]
  },
  {
   "cell_type": "markdown",
   "metadata": {},
   "source": [
    "## Drop rows from data frame"
   ]
  },
  {
   "cell_type": "code",
   "execution_count": null,
   "metadata": {},
   "outputs": [],
   "source": [
    "with Example():\n",
    "    dataset.drop([3,4,5], inplace=True)"
   ]
  },
  {
   "cell_type": "code",
   "execution_count": null,
   "metadata": {},
   "outputs": [],
   "source": [
    "with Example():\n",
    "    dataset.drop([3,4,5], inplace=True)\n",
    "    dataset.reset_index(drop=True, inplace=True)"
   ]
  },
  {
   "cell_type": "markdown",
   "metadata": {},
   "source": [
    "## One-hot encoding string column"
   ]
  },
  {
   "cell_type": "code",
   "execution_count": null,
   "metadata": {},
   "outputs": [],
   "source": [
    "from sklearn.preprocessing import LabelBinarizer"
   ]
  },
  {
   "cell_type": "code",
   "execution_count": null,
   "metadata": {},
   "outputs": [],
   "source": [
    "Example(inspecting = False)\n",
    "\n",
    "encoder = LabelBinarizer()\n",
    "onehot = encoder.fit_transform(dataset['categorical'])\n",
    "print(onehot)"
   ]
  },
  {
   "cell_type": "code",
   "execution_count": null,
   "metadata": {},
   "outputs": [],
   "source": [
    "with Example():\n",
    "    encoder = LabelBinarizer()\n",
    "    onehot = encoder.fit_transform(dataset['categorical'])\n",
    "\n",
    "    for j, class_ in enumerate(encoder.classes_):\n",
    "        dataset['c({})'.format(class_)] = onehot[:, j]"
   ]
  },
  {
   "cell_type": "code",
   "execution_count": null,
   "metadata": {},
   "outputs": [],
   "source": [
    "with Example():\n",
    "    encoder = LabelBinarizer()\n",
    "    onehot = encoder.fit_transform(dataset['categorical'])\n",
    "\n",
    "    for j, class_ in enumerate(encoder.classes_):\n",
    "        dataset['c({})'.format(class_)] = onehot[:, j]\n",
    "        \n",
    "    del dataset['categorical']"
   ]
  },
  {
   "cell_type": "markdown",
   "metadata": {},
   "source": [
    "## Subset data frame by columns"
   ]
  },
  {
   "cell_type": "code",
   "execution_count": null,
   "metadata": {},
   "outputs": [],
   "source": [
    "Example(inspecting = False)\n",
    "\n",
    "dataset.iloc[:, [1, 2]]"
   ]
  },
  {
   "cell_type": "code",
   "execution_count": null,
   "metadata": {},
   "outputs": [],
   "source": [
    "Example(inspecting = False)\n",
    "\n",
    "dataset.loc[:, ['int', 'yes/no']]"
   ]
  },
  {
   "cell_type": "code",
   "execution_count": null,
   "metadata": {},
   "outputs": [],
   "source": [
    "Example(inspecting = False)\n",
    "\n",
    "dataset.loc[:, filter(lambda i: 'a' in i, dataset.columns)]"
   ]
  },
  {
   "cell_type": "code",
   "execution_count": null,
   "metadata": {},
   "outputs": [],
   "source": [
    "Example(inspecting = False)\n",
    "\n",
    "dataset.loc[:, filter(lambda i: i.startswith('c') or i.startswith('d'), dataset.columns)]"
   ]
  },
  {
   "cell_type": "code",
   "execution_count": null,
   "metadata": {},
   "outputs": [],
   "source": [
    "Example(inspecting = False)\n",
    "\n",
    "dataset.loc[:, [i for i in dataset.columns if i.startswith('c') or i.startswith('d')]]"
   ]
  },
  {
   "cell_type": "markdown",
   "metadata": {},
   "source": [
    "## Subset data frame by rows"
   ]
  },
  {
   "cell_type": "code",
   "execution_count": null,
   "metadata": {},
   "outputs": [],
   "source": [
    "Example(inspecting = False)\n",
    "\n",
    "dataset.iloc[[3,4,5], :]"
   ]
  },
  {
   "cell_type": "code",
   "execution_count": null,
   "metadata": {},
   "outputs": [],
   "source": [
    "Example(inspecting = False)\n",
    "\n",
    "print(dataset['int']>5)\n",
    "\n",
    "dataset[dataset['int']>5]"
   ]
  },
  {
   "cell_type": "code",
   "execution_count": null,
   "metadata": {},
   "outputs": [],
   "source": [
    "Example(inspecting = False)\n",
    "\n",
    "dataset[(dataset['float']>0.5) & (dataset['yes/no']=='Yes')]"
   ]
  },
  {
   "cell_type": "markdown",
   "metadata": {},
   "source": [
    "Sidebar: replacing dataset[] with np.sum(), you can get the count of records  \n",
    "satisfying the condition."
   ]
  },
  {
   "cell_type": "code",
   "execution_count": null,
   "metadata": {},
   "outputs": [],
   "source": [
    "Example(inspecting = False)\n",
    "\n",
    "np.sum((dataset['float']>0.5) & (dataset['yes/no']=='Yes'))"
   ]
  },
  {
   "cell_type": "markdown",
   "metadata": {},
   "source": [
    "### Notice the usage of dataset[]\n",
    "\n",
    "It acts on either rows or columns depending on the context."
   ]
  },
  {
   "cell_type": "code",
   "execution_count": null,
   "metadata": {},
   "outputs": [],
   "source": [
    "Example(inspecting = False)\n",
    "\n",
    "obj = 'categorical'\n",
    "dataset[obj]"
   ]
  },
  {
   "cell_type": "code",
   "execution_count": null,
   "metadata": {},
   "outputs": [],
   "source": [
    "Example(inspecting = False)\n",
    "\n",
    "obj = [False,False,False,False,True,False,True,False]\n",
    "dataset[obj]"
   ]
  },
  {
   "cell_type": "markdown",
   "metadata": {},
   "source": [
    "That was how the following statement could work."
   ]
  },
  {
   "cell_type": "code",
   "execution_count": null,
   "metadata": {},
   "outputs": [],
   "source": [
    "Example(inspecting = False)\n",
    "\n",
    "dataset[dataset['categorical']=='C']"
   ]
  },
  {
   "cell_type": "markdown",
   "metadata": {},
   "source": [
    "### And this indexer is also writable on both axes"
   ]
  },
  {
   "cell_type": "code",
   "execution_count": null,
   "metadata": {},
   "outputs": [],
   "source": [
    "with Example():\n",
    "    dataset['categorical'] = ['A']*8"
   ]
  },
  {
   "cell_type": "code",
   "execution_count": null,
   "metadata": {},
   "outputs": [],
   "source": [
    "with Example():\n",
    "    dataset[dataset['categorical']=='C'] = [-1, -128, 'No', '0000-00-00', '<<<']"
   ]
  },
  {
   "cell_type": "code",
   "execution_count": null,
   "metadata": {},
   "outputs": [],
   "source": [
    "with Example():\n",
    "    dataset[dataset['categorical']=='C'] = [\n",
    "        [-1, -128, 'No', '0000-00-00', '<<<'],\n",
    "        [0, 127, 'Yes', '1900-12-01', '<<<']\n",
    "    ]"
   ]
  },
  {
   "cell_type": "markdown",
   "metadata": {},
   "source": [
    "## Resample dataset"
   ]
  },
  {
   "cell_type": "code",
   "execution_count": null,
   "metadata": {},
   "outputs": [],
   "source": [
    "with Example():\n",
    "    dataset = dataset.sample(frac = 0.2)"
   ]
  },
  {
   "cell_type": "code",
   "execution_count": null,
   "metadata": {},
   "outputs": [],
   "source": [
    "with Example():\n",
    "    dataset = dataset.sample(frac = 0.9, replace = True)"
   ]
  },
  {
   "cell_type": "code",
   "execution_count": null,
   "metadata": {},
   "outputs": [],
   "source": [
    "with Example():\n",
    "    dataset = dataset.sample(frac = 1)"
   ]
  },
  {
   "cell_type": "code",
   "execution_count": null,
   "metadata": {},
   "outputs": [],
   "source": [
    "with Example():\n",
    "    dataset = dataset.sample(frac = 1.5, replace = True)"
   ]
  },
  {
   "cell_type": "code",
   "execution_count": null,
   "metadata": {},
   "outputs": [],
   "source": [
    "with Example():\n",
    "    dataset = dataset.sample(frac = 1.5, replace = True).reset_index(drop=True)"
   ]
  },
  {
   "cell_type": "markdown",
   "metadata": {},
   "source": [
    "### All done!  Clear Cells, Save Notebook, `File > Close and Halt`"
   ]
  }
 ],
 "metadata": {
  "kernelspec": {
   "display_name": "Python 3",
   "language": "python",
   "name": "python3"
  },
  "language_info": {
   "codemirror_mode": {
    "name": "ipython",
    "version": 3
   },
   "file_extension": ".py",
   "mimetype": "text/x-python",
   "name": "python",
   "nbconvert_exporter": "python",
   "pygments_lexer": "ipython3",
   "version": "3.9.1"
  }
 },
 "nbformat": 4,
 "nbformat_minor": 4
}
