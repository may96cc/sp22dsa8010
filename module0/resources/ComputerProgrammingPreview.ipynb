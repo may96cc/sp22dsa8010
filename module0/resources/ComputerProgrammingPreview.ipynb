{
 "cells": [
  {
   "cell_type": "markdown",
   "metadata": {},
   "source": [
    "For all the complex possibilities of computer programs, most programs boil down to a couple of simple paradigms.\n",
    "\n",
    "## Paradigm 1 : Data Processing\n",
    "\n",
    "Many computer programs can be viewed as an over simplification:\n",
    "\n",
    "```\n",
    "Input --> Program --> Output\n",
    "```\n",
    "\n",
    "**The input from computer programs typically comes from only a few types of things:**\n",
    "\n",
    "  *  User Input\n",
    "  *  Environment\n",
    "  *  Data sources\n",
    "\n",
    "**The output is typically directed to a few places:**\n",
    "\n",
    "  *  User (e.g., screen, speakers, haptic feedback)\n",
    "  *  Data output locations commonly called data sinks (yes, like in the kitchen), such as files or databases\n",
    "  *  Other programs\n",
    "\n",
    "Lets look at a picture of our concept of a program:\n",
    "\n",
    "![Computer Program](../images/ComputerProgram.png)\n",
    "\n",
    "We have purposely represented the computer program as a Black Box. \n",
    "This concept means, that as the user of a program (or function in a code library) you should only need to know the necessary inputs and the expected outputs.  \n",
    "How the computer code that is being used accomplishes its task should be opaque.\n",
    "\n",
    "The design of these programs is fairly straight forward.  \n",
    "There is an entry point, i.e., the start of the program or the function call, which receives all the input data. \n",
    "Steps of the program are executed in sequence, with potential decisions made by the computer code based on the data available.\n",
    "\n",
    "These decisions points determine the next step in the code, jumping ahead or jumping backward.  \n",
    "You will learn more about flow control later."
   ]
  },
  {
   "cell_type": "markdown",
   "metadata": {},
   "source": [
    "##  Paradigm 2 : Event-Driven\n",
    "\n",
    "The most common type of event-driven programs are system services and user interfaces.  \n",
    "These types are computer programs are important, but we will focus on the data-driven programs that are more relevant to data science.\n"
   ]
  },
  {
   "cell_type": "markdown",
   "metadata": {},
   "source": [
    "## Python Programming : Procedural or Object Oriented\n",
    "\n",
    "Python supports both procedural and object-oriented program design.  For the time being, we will focus on procedural programming.  Both styles leverage a modular programming philosophy, where segments of code are organized into **reusable modules** such as functions.\n",
    "\n",
    "Modular programming is a pillar of computer programming and computer science.  The general idea is that you should be able to reuse code you have written in multiple places.  At the highest level, libraries are collections of modular code functionalities.\n",
    "\n",
    "### Functions\n",
    "\n",
    "Functions are the most common encapsulation of functionality.  A modular component of code, a function in this case, is an isolated series of steps that has a set of input parameters and produces output.  The implementation of the functionality is generally agnostic to the input values, allowing a high level of code reuse with a wide variety of input.\n",
    "\n",
    "Referring to the image at the top of the page, we can replace ~~Computer Program~~ with **Function**.\n",
    "In this regard, a function is a smaller version of a data processing program.\n",
    "\n",
    "The function definition opens with the keyword `def` followed by the name of the function and a parenthesized list of parameter names. The body of the function — the statements that are executed when it runs — is indented below the definition line.\n",
    "\n",
    "When we call the function, the values we pass to it are assigned to those variables (the parameter names) so that we can use them inside the function. Inside the function, we use a return statement to send a result back to whoever asked for it.\n",
    "\n",
    "We will discuss more about functions next week. "
   ]
  }
 ],
 "metadata": {
  "kernelspec": {
   "display_name": "Python 3",
   "language": "python",
   "name": "python3"
  },
  "language_info": {
   "codemirror_mode": {
    "name": "ipython",
    "version": 3
   },
   "file_extension": ".py",
   "mimetype": "text/x-python",
   "name": "python",
   "nbconvert_exporter": "python",
   "pygments_lexer": "ipython3",
   "version": "3.7.3"
  }
 },
 "nbformat": 4,
 "nbformat_minor": 1
}
