{
 "cells": [
  {
   "cell_type": "markdown",
   "metadata": {},
   "source": [
    "# Data preprocesing\n",
    "\n",
    "In this notebook, we discuss how to deal with missing values. "
   ]
  },
  {
   "cell_type": "markdown",
   "metadata": {},
   "source": [
    "## Imputation of Missing values\n",
    "\n",
    "A dataset may contain missing values for some features, and some models may not support such a dataset as input. There are various strategies to deal with the missing values which include \n",
    "\n",
    "1. Drop the row; causes reduction of data\n",
    "2. Set a missing value with the mean, median, or constant value of the feature \n",
    "3. Interpolate the missing value from other features. Rows having the feature values are used to predict the missing one. "
   ]
  },
  {
   "cell_type": "code",
   "execution_count": null,
   "metadata": {},
   "outputs": [],
   "source": [
    "import numpy as np\n",
    "import pandas as pd\n",
    "from sklearn.impute import SimpleImputer"
   ]
  },
  {
   "cell_type": "code",
   "execution_count": null,
   "metadata": {},
   "outputs": [],
   "source": [
    "data = {'name': ['Michael', 'Jessica', 'Sue', 'Jake', 'Amy', 'Tye'],\n",
    "        'gender':[np.NaN,'F',np.NaN,'F',np.NaN, 'M'],\n",
    "        'height': [123, 145, 100 , np.NaN, None, 150],\n",
    "        'weight': [10, np.NaN , 30, np.NaN, None, 20],\n",
    "        'age': [14, None, 29 , np.NaN, 52, 45],\n",
    "        }\n",
    "df = pd.DataFrame(data, columns = ['name','gender', 'height', 'weight', 'age'])\n",
    "df"
   ]
  },
  {
   "cell_type": "markdown",
   "metadata": {},
   "source": [
    "### Dropping rows with NaN/None values"
   ]
  },
  {
   "cell_type": "code",
   "execution_count": null,
   "metadata": {},
   "outputs": [],
   "source": [
    "# drop rows with NaN/None values\n",
    "\n",
    "df_reduced = df.dropna()\n",
    "df_reduced"
   ]
  },
  {
   "cell_type": "markdown",
   "metadata": {},
   "source": [
    "### Dropping rows that contains less than k features"
   ]
  },
  {
   "cell_type": "code",
   "execution_count": null,
   "metadata": {},
   "outputs": [],
   "source": [
    "\n",
    "df_reduced = df.dropna(thresh=3)  # k = 3\n",
    "df_reduced"
   ]
  },
  {
   "cell_type": "markdown",
   "metadata": {},
   "source": [
    "### Imputing the missing value with the most frequent value of the column"
   ]
  },
  {
   "cell_type": "code",
   "execution_count": null,
   "metadata": {},
   "outputs": [],
   "source": [
    "imputer = SimpleImputer(missing_values=np.nan, strategy='most_frequent')\n",
    "df_imputed = pd.DataFrame(imputer.fit_transform(df))\n",
    "df_imputed"
   ]
  },
  {
   "cell_type": "markdown",
   "metadata": {},
   "source": [
    "### Replacing the missing value with constant value"
   ]
  },
  {
   "cell_type": "code",
   "execution_count": null,
   "metadata": {},
   "outputs": [],
   "source": [
    "imputer = SimpleImputer(missing_values=np.nan, strategy='constant', fill_value=-1)\n",
    "df_imputed = pd.DataFrame(imputer.fit_transform(df))\n",
    "df_imputed"
   ]
  }
 ],
 "metadata": {
  "kernelspec": {
   "display_name": "Python 3",
   "language": "python",
   "name": "python3"
  },
  "language_info": {
   "codemirror_mode": {
    "name": "ipython",
    "version": 3
   },
   "file_extension": ".py",
   "mimetype": "text/x-python",
   "name": "python",
   "nbconvert_exporter": "python",
   "pygments_lexer": "ipython3",
   "version": "3.9.1"
  }
 },
 "nbformat": 4,
 "nbformat_minor": 4
}
