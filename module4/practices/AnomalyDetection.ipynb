{
 "cells": [
  {
   "cell_type": "markdown",
   "metadata": {},
   "source": [
    "# Module 4: Anomaly Detection\n",
    "## Practice: Outlier Reduction for Linear Regression\n",
    "In this session, we'll be fitting a `LinearRegression` model on the `boston` dataset included in `scikit-learn`.  \n",
    "\n",
    "Having already worked with this dataset,\n",
    "you may remember it as a simple yet broadly representative linear regression problem."
   ]
  },
  {
   "cell_type": "markdown",
   "metadata": {},
   "source": [
    "## Getting started - imports"
   ]
  },
  {
   "cell_type": "code",
   "execution_count": 1,
   "metadata": {},
   "outputs": [],
   "source": [
    "%matplotlib inline\n",
    "import os\n",
    "import pandas as pd\n",
    "import numpy as np\n",
    "import matplotlib.pyplot as plt\n",
    "from sklearn.datasets import load_boston\n",
    "from sklearn.linear_model import Ridge\n",
    "from sklearn.linear_model import LinearRegression\n",
    "from sklearn.metrics import mean_absolute_error\n",
    "from sklearn.model_selection import cross_val_score, train_test_split\n",
    "\n",
    "np.random.seed(10)"
   ]
  },
  {
   "cell_type": "markdown",
   "metadata": {},
   "source": [
    "## Loading dataset\n",
    "First order of business is to load in the dataset."
   ]
  },
  {
   "cell_type": "code",
   "execution_count": 2,
   "metadata": {},
   "outputs": [
    {
     "name": "stdout",
     "output_type": "stream",
     "text": [
      ".. _boston_dataset:\n",
      "\n",
      "Boston house prices dataset\n",
      "---------------------------\n",
      "\n",
      "**Data Set Characteristics:**  \n",
      "\n",
      "    :Number of Instances: 506 \n",
      "\n",
      "    :Number of Attributes: 13 numeric/categorical predictive. Median Value (attribute 14) is usually the target.\n",
      "\n",
      "    :Attribute Information (in order):\n",
      "        - CRIM     per capita crime rate by town\n",
      "        - ZN       proportion of residential land zoned for lots over 25,000 sq.ft.\n",
      "        - INDUS    proportion of non-retail business acres per town\n",
      "        - CHAS     Charles River dummy variable (= 1 if tract bounds river; 0 otherwise)\n",
      "        - NOX      nitric oxides concentration (parts per 10 million)\n",
      "        - RM       average number of rooms per dwelling\n",
      "        - AGE      proportion of owner-occupied units built prior to 1940\n",
      "        - DIS      weighted distances to five Boston employment centres\n",
      "        - RAD      index of accessibility to radial highways\n",
      "        - TAX      full-value property-tax rate per $10,000\n",
      "        - PTRATIO  pupil-teacher ratio by town\n",
      "        - B        1000(Bk - 0.63)^2 where Bk is the proportion of blacks by town\n",
      "        - LSTAT    % lower status of the population\n",
      "        - MEDV     Median value of owner-occupied homes in $1000's\n",
      "\n",
      "    :Missing Attribute Values: None\n",
      "\n",
      "    :Creator: Harrison, D. and Rubinfeld, D.L.\n",
      "\n",
      "This is a copy of UCI ML housing dataset.\n",
      "https://archive.ics.uci.edu/ml/machine-learning-databases/housing/\n",
      "\n",
      "\n",
      "This dataset was taken from the StatLib library which is maintained at Carnegie Mellon University.\n",
      "\n",
      "The Boston house-price data of Harrison, D. and Rubinfeld, D.L. 'Hedonic\n",
      "prices and the demand for clean air', J. Environ. Economics & Management,\n",
      "vol.5, 81-102, 1978.   Used in Belsley, Kuh & Welsch, 'Regression diagnostics\n",
      "...', Wiley, 1980.   N.B. Various transformations are used in the table on\n",
      "pages 244-261 of the latter.\n",
      "\n",
      "The Boston house-price data has been used in many machine learning papers that address regression\n",
      "problems.   \n",
      "     \n",
      ".. topic:: References\n",
      "\n",
      "   - Belsley, Kuh & Welsch, 'Regression diagnostics: Identifying Influential Data and Sources of Collinearity', Wiley, 1980. 244-261.\n",
      "   - Quinlan,R. (1993). Combining Instance-Based and Model-Based Learning. In Proceedings on the Tenth International Conference of Machine Learning, 236-243, University of Massachusetts, Amherst. Morgan Kaufmann.\n",
      "\n"
     ]
    }
   ],
   "source": [
    "# Load boston housing dataset \n",
    "boston = load_boston()\n",
    "print(boston.DESCR)"
   ]
  },
  {
   "cell_type": "code",
   "execution_count": 3,
   "metadata": {},
   "outputs": [
    {
     "data": {
      "text/plain": [
       "array(['CRIM', 'ZN', 'INDUS', 'CHAS', 'NOX', 'RM', 'AGE', 'DIS', 'RAD',\n",
       "       'TAX', 'PTRATIO', 'B', 'LSTAT'], dtype='<U7')"
      ]
     },
     "execution_count": 3,
     "metadata": {},
     "output_type": "execute_result"
    }
   ],
   "source": [
    "boston.feature_names"
   ]
  },
  {
   "cell_type": "code",
   "execution_count": 4,
   "metadata": {},
   "outputs": [
    {
     "data": {
      "text/plain": [
       "numpy.ndarray"
      ]
     },
     "execution_count": 4,
     "metadata": {},
     "output_type": "execute_result"
    }
   ],
   "source": [
    "type(boston.data)"
   ]
  },
  {
   "cell_type": "code",
   "execution_count": null,
   "metadata": {},
   "outputs": [],
   "source": []
  },
  {
   "cell_type": "code",
   "execution_count": 5,
   "metadata": {},
   "outputs": [
    {
     "name": "stdout",
     "output_type": "stream",
     "text": [
      "X, y shape: (506, 13) (506,)\n"
     ]
    }
   ],
   "source": [
    "# Split into X and y sets   #P4001\n",
    "\n",
    "X = boston.data\n",
    "y = boston.target\n",
    "\n",
    "# Print out some basic shape data on the arrays\n",
    "print(\"X, y shape:\", X.shape, y.shape)"
   ]
  },
  {
   "cell_type": "code",
   "execution_count": 6,
   "metadata": {
    "scrolled": true
   },
   "outputs": [
    {
     "name": "stdout",
     "output_type": "stream",
     "text": [
      "X_train.shape:  (339, 13)\n",
      "y_train.shape:  (339,)\n",
      "X_test.shape:  (167, 13)\n",
      "y_test.shape:  (167,)\n"
     ]
    }
   ],
   "source": [
    "# perform train/test split\n",
    "\n",
    "X_train, X_test, y_train, y_test = train_test_split(X, y, test_size=0.33)  #P4002\n",
    "\n",
    "# verify split shapes and contents\n",
    "print(\"X_train.shape: \", X_train.shape)\n",
    "print(\"y_train.shape: \", y_train.shape)\n",
    "print(\"X_test.shape: \", X_test.shape)\n",
    "print(\"y_test.shape: \", y_test.shape)"
   ]
  },
  {
   "cell_type": "markdown",
   "metadata": {},
   "source": [
    "Run cross validation (5-fold) on a linear ridge model."
   ]
  },
  {
   "cell_type": "code",
   "execution_count": 7,
   "metadata": {},
   "outputs": [
    {
     "name": "stdout",
     "output_type": "stream",
     "text": [
      "Scores:  [array([[1.80846e+01, 0.00000e+00, 1.81000e+01, ..., 2.02000e+01,\n",
      "        2.72500e+01, 2.90500e+01],\n",
      "       [1.39140e-01, 0.00000e+00, 4.05000e+00, ..., 1.66000e+01,\n",
      "        3.96900e+02, 1.46900e+01],\n",
      "       [1.39600e-01, 0.00000e+00, 8.56000e+00, ..., 2.09000e+01,\n",
      "        3.92690e+02, 1.23300e+01],\n",
      "       ...,\n",
      "       [2.63630e-01, 0.00000e+00, 8.56000e+00, ..., 2.09000e+01,\n",
      "        3.91230e+02, 1.55500e+01],\n",
      "       [6.65492e+00, 0.00000e+00, 1.81000e+01, ..., 2.02000e+01,\n",
      "        3.96900e+02, 1.39900e+01],\n",
      "       [8.26725e+00, 0.00000e+00, 1.81000e+01, ..., 2.02000e+01,\n",
      "        3.47880e+02, 8.88000e+00]]), array([[5.3020e-02, 0.0000e+00, 3.4100e+00, ..., 1.7800e+01, 3.9606e+02,\n",
      "        5.7000e+00],\n",
      "       [7.0130e-02, 0.0000e+00, 1.3890e+01, ..., 1.6400e+01, 3.9278e+02,\n",
      "        9.6900e+00],\n",
      "       [1.8337e-01, 0.0000e+00, 2.7740e+01, ..., 2.0100e+01, 3.4405e+02,\n",
      "        2.3970e+01],\n",
      "       ...,\n",
      "       [1.1425e-01, 0.0000e+00, 1.3890e+01, ..., 1.6400e+01, 3.9374e+02,\n",
      "        1.0500e+01],\n",
      "       [2.7290e-02, 0.0000e+00, 7.0700e+00, ..., 1.7800e+01, 3.9283e+02,\n",
      "        4.0300e+00],\n",
      "       [5.6440e-02, 4.0000e+01, 6.4100e+00, ..., 1.7600e+01, 3.9690e+02,\n",
      "        3.5300e+00]]), array([ 7.2, 23.1, 20.1, 10.4, 24.6, 34.9, 20. , 15.4, 13.4, 23.6, 10.2,\n",
      "       17.8, 15.6, 27.9, 22.4, 21. , 22.9, 20.3, 26.6, 32. , 21.7, 29.8,\n",
      "       50. , 23.1, 23.3, 19.6, 23.3, 25. , 17.1, 26.6, 50. , 13.5, 18.8,\n",
      "       21.4, 18.9, 23.2, 23.9, 17.2, 27.5,  9.7, 17.5, 22.7, 33.4, 16.5,\n",
      "       14.5, 19.8, 22.4, 31.1,  7.2, 17.1,  5.6, 20.8,  9.5, 16.5, 33.1,\n",
      "       28.6, 36.4, 10.5, 27.5, 20.4, 29.8, 29.1, 18.2, 10.2, 25.2, 20.5,\n",
      "       17.8, 31.6, 21.7, 19.4, 12.6, 22.3, 21.7, 19.5, 42.8, 50. , 13.8,\n",
      "       13.2, 20. , 23.4, 22. , 21.9, 11.8,  7.5, 35.4, 13.4, 23.1, 30.8,\n",
      "       20.2, 22.6, 24.7, 13.4, 37. , 29.6, 23.3, 22.6, 14. , 21.9, 23.8,\n",
      "       24.8, 24.3, 20.6, 14.9, 17.3, 19.2, 30.3, 25. , 32.2, 22.9, 15.3,\n",
      "       15.2, 20.6, 13.3, 21.2, 18.5,  8.3, 19.3, 18.2, 31. , 45.4, 21.6,\n",
      "       12.8, 23.8, 14.2, 12.7, 10.9, 20.6, 21. , 27.5, 21.7, 18.5, 28. ,\n",
      "       43.5, 23.9, 18.4,  5. , 28.4, 24.4, 22.2, 25.3, 41.3, 20.5, 18.1,\n",
      "       39.8, 44. , 16.1, 17.7, 19.4, 18.9, 19.6, 20.9, 23.9, 10.5, 33.8,\n",
      "       19.3, 20.1, 23.7, 16.2, 33.2, 21.2, 23. , 22.2, 27.9, 25. , 23.1,\n",
      "       31.5, 14.5, 19.8, 36. , 16.8, 29.4, 13.8, 27.1, 20.1, 21.4, 20. ,\n",
      "       50. , 17.2, 15.2, 21.8, 21.9, 23.7, 20.2, 17.5, 27.1, 14.4, 12.7,\n",
      "       23.7, 32.5, 28.7, 18.6, 20.4, 16.7, 24.7, 18. , 13.1, 15.7, 16.2,\n",
      "       18.7, 30.7, 20.7, 26.4, 20.3, 34.6, 22. , 24.3, 48.8, 11.3, 25. ,\n",
      "        8.4, 22.8, 13.6, 26.7, 16.3, 19.4, 12.7, 26.4, 23.3, 16.6, 11.7,\n",
      "       18.8, 29.1, 50. , 21.7, 24.1, 18.2, 22.3, 19.1, 22.8, 15. ,  8.3,\n",
      "       24.1, 14.6, 37.9, 20.6, 18.3, 16.1, 15.6, 35.1, 24.8, 23.5, 50. ,\n",
      "       20. , 33.4, 33.2, 12.3, 24.4, 19.9, 32.9, 22.1, 21.2, 18.4, 42.3,\n",
      "       22.7, 20.9, 20.5, 20.8, 38.7, 19.9, 19.2, 25. , 21.4, 14.9, 23.1,\n",
      "       21.4, 18.6, 35.2, 20.6, 44.8, 28.5, 33.1, 19.4, 14.1, 14.1, 19.6,\n",
      "       27. , 24.5, 31.5, 19.1, 12.1, 21.7, 14.9, 19.6, 17.4, 13.3, 31.2,\n",
      "       14.4, 10.9, 22.8, 23.2, 13. , 25. , 10.2, 18.7, 29.6, 19.5, 15. ,\n",
      "       19.3, 17.4, 18.9, 22. , 43.8, 46.7, 14.6, 17.8, 30.1, 18.5, 23.1,\n",
      "       23.9, 23.7, 32.7, 15.1, 13.1, 19.8, 19.7, 21. , 11.5, 14.1, 19. ,\n",
      "       32. , 16.6, 23.8, 13.6, 34.9, 24. , 50. , 22.5, 31.6, 12.5, 50. ,\n",
      "       18.4, 18.5, 46. , 31.7, 25.1, 13.5, 19.4, 19.5, 50. ]), array([28.7, 28.7,  7. , 21.7, 20.4, 36.2, 34.9, 22.8, 20.4, 14.3, 16.8,\n",
      "       22.6,  8.8, 17.5,  5. , 18.9, 29. , 23.2, 18.3, 22.5, 17.8, 13.8,\n",
      "       14.5, 21.1, 23.1, 14.3, 24.4, 24. , 30.5,  8.5, 10.8, 16. , 16.7,\n",
      "       22.2, 19.6, 50. , 22.6, 50. , 18.7, 11.7, 21.5, 43.1, 24.1, 23. ,\n",
      "       12. , 17.6,  7.4, 19.5, 11.8, 28.1, 17. , 19.1, 33.3, 19.1, 30.1,\n",
      "       19.4, 10.4, 24.7, 33. , 16.1, 28.2, 22.9, 19.3,  8.8, 13.9, 17.1,\n",
      "       23.2, 19.9, 23.8, 23. , 13.8, 14.8, 22. , 22.5, 11.9,  7.2, 15.6,\n",
      "       15.2, 35.4, 24.5, 17.9, 24.5, 24.2, 20.6, 20.3,  8.4,  8.7, 37.3,\n",
      "       21.5, 21.4, 30.1, 24.8, 36.2, 17.8, 23.6, 24.3, 13.8, 19. , 11. ,\n",
      "       25. , 36.5,  8.1, 22.6, 50. ,  9.6, 28.4, 20.7, 15. , 15.6, 41.7,\n",
      "       24.6, 11.9, 26.6, 13.1,  8.5, 20.1, 13.9, 24.8, 50. , 19.7, 29.9,\n",
      "       19.3, 19.9, 16.4,  6.3, 24.4, 23.9, 21.6,  7. , 50. , 20.8, 21.8,\n",
      "       20.3, 26.5, 13.4, 25. , 20. , 22. , 48.5, 13.1, 50. , 15.6, 17.4,\n",
      "       17.2, 48.3, 37.6, 27.5, 22. , 26.2, 22. , 20.1, 15.4, 36.1, 13.3,\n",
      "       37.2, 22.2, 21.2, 21.2, 22.2, 22.9, 29. , 50. , 23.4, 21.1, 23. ,\n",
      "       34.7, 32.4])]\n"
     ]
    },
    {
     "name": "stderr",
     "output_type": "stream",
     "text": [
      "/opt/conda/lib/python3.7/site-packages/numpy/core/_methods.py:163: VisibleDeprecationWarning: Creating an ndarray from ragged nested sequences (which is a list-or-tuple of lists-or-tuples-or ndarrays with different lengths or shapes) is deprecated. If you meant to do this, you must specify 'dtype=object' when creating the ndarray.\n",
      "  arr = asanyarray(a)\n"
     ]
    },
    {
     "ename": "ValueError",
     "evalue": "operands could not be broadcast together with shapes (339,13) (167,13) ",
     "output_type": "error",
     "traceback": [
      "\u001b[0;31m---------------------------------------------------------------------------\u001b[0m",
      "\u001b[0;31mValueError\u001b[0m                                Traceback (most recent call last)",
      "\u001b[0;32m<ipython-input-7-5ae2c049b70b>\u001b[0m in \u001b[0;36m<module>\u001b[0;34m\u001b[0m\n\u001b[1;32m      2\u001b[0m \u001b[0mscores\u001b[0m \u001b[0;34m=\u001b[0m \u001b[0mtrain_test_split\u001b[0m\u001b[0;34m(\u001b[0m\u001b[0mX\u001b[0m\u001b[0;34m,\u001b[0m \u001b[0my\u001b[0m\u001b[0;34m,\u001b[0m \u001b[0mtest_size\u001b[0m\u001b[0;34m=\u001b[0m\u001b[0;36m0.33\u001b[0m\u001b[0;34m)\u001b[0m\u001b[0;34m\u001b[0m\u001b[0;34m\u001b[0m\u001b[0m\n\u001b[1;32m      3\u001b[0m \u001b[0mprint\u001b[0m\u001b[0;34m(\u001b[0m\u001b[0;34m\"Scores: \"\u001b[0m\u001b[0;34m,\u001b[0m \u001b[0mscores\u001b[0m\u001b[0;34m)\u001b[0m\u001b[0;34m\u001b[0m\u001b[0;34m\u001b[0m\u001b[0m\n\u001b[0;32m----> 4\u001b[0;31m \u001b[0mprint\u001b[0m\u001b[0;34m(\u001b[0m\u001b[0;34m\"Mean score (5 folds): \"\u001b[0m\u001b[0;34m,\u001b[0m \u001b[0mnp\u001b[0m\u001b[0;34m.\u001b[0m\u001b[0mmean\u001b[0m\u001b[0;34m(\u001b[0m\u001b[0mscores\u001b[0m\u001b[0;34m)\u001b[0m\u001b[0;34m)\u001b[0m\u001b[0;34m\u001b[0m\u001b[0;34m\u001b[0m\u001b[0m\n\u001b[0m",
      "\u001b[0;32m<__array_function__ internals>\u001b[0m in \u001b[0;36mmean\u001b[0;34m(*args, **kwargs)\u001b[0m\n",
      "\u001b[0;32m/opt/conda/lib/python3.7/site-packages/numpy/core/fromnumeric.py\u001b[0m in \u001b[0;36mmean\u001b[0;34m(a, axis, dtype, out, keepdims, where)\u001b[0m\n\u001b[1;32m   3439\u001b[0m \u001b[0;34m\u001b[0m\u001b[0m\n\u001b[1;32m   3440\u001b[0m     return _methods._mean(a, axis=axis, dtype=dtype,\n\u001b[0;32m-> 3441\u001b[0;31m                           out=out, **kwargs)\n\u001b[0m\u001b[1;32m   3442\u001b[0m \u001b[0;34m\u001b[0m\u001b[0m\n\u001b[1;32m   3443\u001b[0m \u001b[0;34m\u001b[0m\u001b[0m\n",
      "\u001b[0;32m/opt/conda/lib/python3.7/site-packages/numpy/core/_methods.py\u001b[0m in \u001b[0;36m_mean\u001b[0;34m(a, axis, dtype, out, keepdims, where)\u001b[0m\n\u001b[1;32m    177\u001b[0m             \u001b[0mis_float16_result\u001b[0m \u001b[0;34m=\u001b[0m \u001b[0;32mTrue\u001b[0m\u001b[0;34m\u001b[0m\u001b[0;34m\u001b[0m\u001b[0m\n\u001b[1;32m    178\u001b[0m \u001b[0;34m\u001b[0m\u001b[0m\n\u001b[0;32m--> 179\u001b[0;31m     \u001b[0mret\u001b[0m \u001b[0;34m=\u001b[0m \u001b[0mumr_sum\u001b[0m\u001b[0;34m(\u001b[0m\u001b[0marr\u001b[0m\u001b[0;34m,\u001b[0m \u001b[0maxis\u001b[0m\u001b[0;34m,\u001b[0m \u001b[0mdtype\u001b[0m\u001b[0;34m,\u001b[0m \u001b[0mout\u001b[0m\u001b[0;34m,\u001b[0m \u001b[0mkeepdims\u001b[0m\u001b[0;34m,\u001b[0m \u001b[0mwhere\u001b[0m\u001b[0;34m=\u001b[0m\u001b[0mwhere\u001b[0m\u001b[0;34m)\u001b[0m\u001b[0;34m\u001b[0m\u001b[0;34m\u001b[0m\u001b[0m\n\u001b[0m\u001b[1;32m    180\u001b[0m     \u001b[0;32mif\u001b[0m \u001b[0misinstance\u001b[0m\u001b[0;34m(\u001b[0m\u001b[0mret\u001b[0m\u001b[0;34m,\u001b[0m \u001b[0mmu\u001b[0m\u001b[0;34m.\u001b[0m\u001b[0mndarray\u001b[0m\u001b[0;34m)\u001b[0m\u001b[0;34m:\u001b[0m\u001b[0;34m\u001b[0m\u001b[0;34m\u001b[0m\u001b[0m\n\u001b[1;32m    181\u001b[0m         ret = um.true_divide(\n",
      "\u001b[0;31mValueError\u001b[0m: operands could not be broadcast together with shapes (339,13) (167,13) "
     ]
    }
   ],
   "source": [
    "naive_model = Ridge() #P4003\n",
    "scores = train_test_split(X, y, test_size=0.33)\n",
    "print(\"Scores: \", scores)\n",
    "print(\"Mean score (5 folds): \", np.mean(scores))"
   ]
  },
  {
   "cell_type": "markdown",
   "metadata": {},
   "source": [
    "Fit this model on the training dataset."
   ]
  },
  {
   "cell_type": "code",
   "execution_count": 8,
   "metadata": {},
   "outputs": [
    {
     "data": {
      "text/plain": [
       "Ridge()"
      ]
     },
     "execution_count": 8,
     "metadata": {},
     "output_type": "execute_result"
    }
   ],
   "source": [
    "# Fit a model with all the training data #P4004\n",
    "naive_model.fit(X_train, y_train)"
   ]
  },
  {
   "cell_type": "markdown",
   "metadata": {},
   "source": [
    "Make some predictions from testing dataset and print mean absolute measure."
   ]
  },
  {
   "cell_type": "code",
   "execution_count": 9,
   "metadata": {},
   "outputs": [
    {
     "data": {
      "text/plain": [
       "3.566042008593919"
      ]
     },
     "execution_count": 9,
     "metadata": {},
     "output_type": "execute_result"
    }
   ],
   "source": [
    "naive_predictions = naive_model.predict(X_test) #P4005\n",
    "\n",
    "from sklearn.metrics import mean_absolute_error\n",
    "mean_absolute_error(y_test, naive_predictions)\n"
   ]
  },
  {
   "cell_type": "markdown",
   "metadata": {},
   "source": [
    "\n",
    "## What methods are available to us for outlier reduction?\n",
    "We could try `KMeans` or an `EllipticEnvelope` again, but we're going to explore a few more options. "
   ]
  },
  {
   "cell_type": "code",
   "execution_count": 10,
   "metadata": {},
   "outputs": [
    {
     "name": "stdout",
     "output_type": "stream",
     "text": [
      "Num of outliers = 17\n"
     ]
    }
   ],
   "source": [
    "from sklearn.ensemble import IsolationForest\n",
    "\n",
    "# Construct IsolationForest \n",
    "iso_forest = IsolationForest(contamination=0.05).fit(X_train, y_train)\n",
    "\n",
    "# Get labels from classifier and cull outliers #P4006\n",
    "iso_outliers = iso_forest.predict(X_train)==-1\n",
    "print(f\"Num of outliers = {np.sum(iso_outliers)}\")\n",
    "X_iso = X_train[~iso_outliers]\n",
    "y_iso = y_train[~iso_outliers]\n",
    "\n"
   ]
  },
  {
   "cell_type": "code",
   "execution_count": 11,
   "metadata": {},
   "outputs": [
    {
     "name": "stdout",
     "output_type": "stream",
     "text": [
      "[0.64999729 0.79335111 0.76697667 0.8082672  0.47639208]\n",
      "Mean CV score w/ IsolationForest: 0.6989968696471354\n"
     ]
    },
    {
     "data": {
      "text/plain": [
       "3.513345834585475"
      ]
     },
     "execution_count": 11,
     "metadata": {},
     "output_type": "execute_result"
    }
   ],
   "source": [
    "# develop a liner regression model without outliers \n",
    "\n",
    "iso_model = LinearRegression()\n",
    "iso_model.fit(X_iso, y_iso)\n",
    "\n",
    "# Cross validate the new model\n",
    "iso_scores = cross_val_score(estimator=iso_model, \n",
    "                             X=X_iso, y=y_iso)\n",
    "print(iso_scores)\n",
    "print(\"Mean CV score w/ IsolationForest:\", np.mean(iso_scores))\n",
    "\n",
    "iso_predictions = iso_model.predict(X_test)\n",
    "mean_absolute_error(y_test, iso_predictions)"
   ]
  },
  {
   "cell_type": "markdown",
   "metadata": {},
   "source": [
    "## Alternatives to IsolationForest: OneClassSVM\n",
    "This means it's time to try something else.  \n",
    "The code below will look very similar to the above, but using `OneClassSVM` in place of the `IsolationForest`:"
   ]
  },
  {
   "cell_type": "code",
   "execution_count": 12,
   "metadata": {},
   "outputs": [
    {
     "name": "stdout",
     "output_type": "stream",
     "text": [
      "Num of outliers = 17\n"
     ]
    }
   ],
   "source": [
    "from sklearn.svm import OneClassSVM\n",
    "\n",
    "# Construct OneClassSVM (kernel='rbf') and fit to full dataset\n",
    "svm = OneClassSVM(kernel='rbf').fit(X_train, y_train)\n",
    "\n",
    "# Get labels from classifier and cull outliers #P4007\n",
    "svm_outliers =  svm.predict(X_train)==-1\n",
    "print(f\"Num of outliers = {np.sum(iso_outliers)}\")\n",
    "X_svm = X_train[~svm_outliers]\n",
    "y_svm = y_train[~svm_outliers]"
   ]
  },
  {
   "cell_type": "code",
   "execution_count": 13,
   "metadata": {},
   "outputs": [
    {
     "name": "stdout",
     "output_type": "stream",
     "text": [
      "[0.74491693 0.74326519 0.80831599 0.76971935 0.16942789]\n",
      "Mean CV score w/ OneClassSVM: 0.6471290691753983\n"
     ]
    },
    {
     "data": {
      "text/plain": [
       "3.6972147679564524"
      ]
     },
     "execution_count": 13,
     "metadata": {},
     "output_type": "execute_result"
    }
   ],
   "source": [
    "# develop a linear regression model without outliers \n",
    "\n",
    "svm_model = LinearRegression().fit(X_svm, y_svm)\n",
    "\n",
    "# Cross validate the new model\n",
    "svm_scores = cross_val_score(estimator=svm_model, \n",
    "                             X=X_svm, y=y_svm)\n",
    "print(svm_scores)\n",
    "print(\"Mean CV score w/ OneClassSVM:\", np.mean(svm_scores))\n",
    "\n",
    "# Make predictions with the fitted model\n",
    "svm_predictions = svm_model.predict(X_test)\n",
    "\n",
    "mean_absolute_error(y_test, svm_predictions)\n"
   ]
  },
  {
   "cell_type": "markdown",
   "metadata": {},
   "source": [
    "## Summary Analysis\n",
    "\n",
    "Of the anomaly detection algorithms used, which had the highest marginal performance. "
   ]
  },
  {
   "cell_type": "raw",
   "metadata": {},
   "source": [
    "# Provide your answers to the question above in this cell\n",
    "# ---------------------------------------------------------\n",
    "Isolation Forest \n",
    "\n"
   ]
  },
  {
   "cell_type": "markdown",
   "metadata": {},
   "source": [
    "## Addtional Tasks\n",
    "Vary various parameters and performance measures for the above practice and see the performance."
   ]
  }
 ],
 "metadata": {
  "kernelspec": {
   "display_name": "Python 3",
   "language": "python",
   "name": "python3"
  },
  "language_info": {
   "codemirror_mode": {
    "name": "ipython",
    "version": 3
   },
   "file_extension": ".py",
   "mimetype": "text/x-python",
   "name": "python",
   "nbconvert_exporter": "python",
   "pygments_lexer": "ipython3",
   "version": "3.7.3"
  }
 },
 "nbformat": 4,
 "nbformat_minor": 4
}
