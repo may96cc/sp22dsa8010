{
 "cells": [
  {
   "cell_type": "markdown",
   "metadata": {},
   "source": [
    "# 4 \n",
    "# Unsupervised Learning: Clustering & Anomaly Detection"
   ]
  },
  {
   "cell_type": "markdown",
   "metadata": {},
   "source": [
    "## Module Topics\n",
    "### Machine Learning Overview\n",
    "  * Clustering\n",
    "  * Anomaly Detection\n",
    "\n"
   ]
  },
  {
   "cell_type": "markdown",
   "metadata": {},
   "source": [
    "\n",
    "## Readings\n",
    "\n",
    "* Clustering [[slides]](./slides/clustering.pdf)\n",
    "    * [Clustering Overview](./resources/Clustering-Overview.ipynb)\n",
    "    * [Similarity Measures](./resources/Similarity-Measures.ipynb)\n",
    "    * [How to evaluate clusters?](https://scikit-learn.org/stable/modules/clustering.html#clustering-evaluation)\n",
    "    * [Wikipedia: Cluster analysis](https://en.wikipedia.org/wiki/Cluster_analysis)\n",
    "    * [Ch 7: Cluster Analysis: Basic Concepts and Algorithms](https://www-users.cse.umn.edu/~kumar001/dmbook/ch7_clustering.pdf)\n",
    "* Anomaly/Outlier/Novelty Detection [[slides]](./slides/anomaly-detection.pdf )\n",
    "    * [sklearn: Novelty and Outlier Detection](https://scikit-learn.org/stable/modules/outlier_detection.html)\n",
    "    * [Anomaly Detection Techniques in Python](https://medium.com/learningdatascience/anomaly-detection-techniques-in-python-50f650c75aaf)\n",
    "\n",
    "## Optional Reading for M5\n",
    "* Grid Search\n",
    "    * [Hyperparameter tuning using Grid Search and Random Search: A Conceptual Guide](https://medium.com/@jackstalfort/hyperparameter-tuning-using-grid-search-and-random-search-f8750a464b35)\n",
    "\n",
    "\n",
    "\n"
   ]
  },
  {
   "cell_type": "markdown",
   "metadata": {},
   "source": [
    "## Labs\n",
    "\n",
    "The goal of this module is to refresh your understanding of clustering (unsupervised machine learning) and explore the application for _Anomaly Detection_.\n",
    "Additionally, you will see new tools to accelerate your exploration of computational models and build better models.\n",
    "\n",
    "* [Clustering](./labs/clustering-overview.ipynb)\n",
    "* [Anomaly Detection](./labs/AnomalyDetection.ipynb) \n",
    "\n"
   ]
  },
  {
   "cell_type": "markdown",
   "metadata": {},
   "source": [
    "## Practices\n",
    "\n",
    "* [Anomaly Detection](./practices/AnomalyDetection.ipynb)\n",
    "    + [Sol](./answers-practices/AnomalyDetection.ipynb)"
   ]
  },
  {
   "cell_type": "markdown",
   "metadata": {},
   "source": [
    "## Exercises\n",
    "\n",
    "  * [Anomaly Detection](./exercises/AnomalyDetection.ipynb)\n"
   ]
  },
  {
   "cell_type": "markdown",
   "metadata": {},
   "source": [
    "## Submitting your work\n",
    "\n",
    "#### Steps:\n",
    "  1. Open Terminal in JupyterHub\n",
    "  1. Change into the course folder\n",
    "  1. Stage (Git Add) the module's practive and exercise work   \n",
    "  `git  add   module4/practices    module4/exercises`\n",
    "  1. Create your work snapshot (Git Commit)  \n",
    "  `git   commit   -m   \"Module 4 submission\"`\n",
    "  1. Upload the snapshot to the server (Git Push)  \n",
    "  `git   push`\n"
   ]
  },
  {
   "cell_type": "markdown",
   "metadata": {},
   "source": [
    "## Congratulations, you have completed the learning activities for this module!"
   ]
  }
 ],
 "metadata": {
  "kernelspec": {
   "display_name": "Python 3",
   "language": "python",
   "name": "python3"
  },
  "language_info": {
   "codemirror_mode": {
    "name": "ipython",
    "version": 3
   },
   "file_extension": ".py",
   "mimetype": "text/x-python",
   "name": "python",
   "nbconvert_exporter": "python",
   "pygments_lexer": "ipython3",
   "version": "3.7.3"
  }
 },
 "nbformat": 4,
 "nbformat_minor": 4
}
