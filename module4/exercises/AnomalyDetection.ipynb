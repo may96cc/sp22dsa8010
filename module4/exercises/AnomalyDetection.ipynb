{
 "cells": [
  {
   "cell_type": "markdown",
   "metadata": {},
   "source": [
    "# Module 4: Anomaly Detection\n",
    "## Cumulative Exercise:\n",
    "### Outlier Detection for Linear Regression on an Auto MPG Dataset\n",
    "\n",
    "In this exercise, you'll be attempting linear (Ridge) regression on a dataset encoding automotive \n",
    "MPG against several other discrete and continuous variables, \n",
    "as described [here](https://archive.ics.uci.edu/ml/datasets/auto+mpg) in the UCI repository.\n",
    "\n",
    "### Notes\n",
    "1. The clearest use of this dataset is to predict MPG, which is column one in the .txt.\n",
    "2. For convenience, some `NaN` values have been pre-emptively cleaned from this dataset. Looking at the original dataset, there are a handful of entries containing null or `?` values, which we have removed."
   ]
  },
  {
   "cell_type": "code",
   "execution_count": 47,
   "metadata": {},
   "outputs": [
    {
     "data": {
      "text/html": [
       "<div>\n",
       "<style scoped>\n",
       "    .dataframe tbody tr th:only-of-type {\n",
       "        vertical-align: middle;\n",
       "    }\n",
       "\n",
       "    .dataframe tbody tr th {\n",
       "        vertical-align: top;\n",
       "    }\n",
       "\n",
       "    .dataframe thead th {\n",
       "        text-align: right;\n",
       "    }\n",
       "</style>\n",
       "<table border=\"1\" class=\"dataframe\">\n",
       "  <thead>\n",
       "    <tr style=\"text-align: right;\">\n",
       "      <th></th>\n",
       "      <th>mpg</th>\n",
       "      <th>cylinders</th>\n",
       "      <th>displacement</th>\n",
       "      <th>horsepower</th>\n",
       "      <th>weight</th>\n",
       "      <th>acceleration</th>\n",
       "      <th>year</th>\n",
       "      <th>origin</th>\n",
       "    </tr>\n",
       "  </thead>\n",
       "  <tbody>\n",
       "    <tr>\n",
       "      <th>count</th>\n",
       "      <td>423.000000</td>\n",
       "      <td>423.000000</td>\n",
       "      <td>423.000000</td>\n",
       "      <td>423.000000</td>\n",
       "      <td>4.230000e+02</td>\n",
       "      <td>423.000000</td>\n",
       "      <td>423.000000</td>\n",
       "      <td>423.000000</td>\n",
       "    </tr>\n",
       "    <tr>\n",
       "      <th>mean</th>\n",
       "      <td>22.151443</td>\n",
       "      <td>5.824960</td>\n",
       "      <td>196.756004</td>\n",
       "      <td>477.616796</td>\n",
       "      <td>8.785400e+05</td>\n",
       "      <td>15.538771</td>\n",
       "      <td>82.095406</td>\n",
       "      <td>1.569740</td>\n",
       "    </tr>\n",
       "    <tr>\n",
       "      <th>std</th>\n",
       "      <td>8.817102</td>\n",
       "      <td>2.720733</td>\n",
       "      <td>111.032114</td>\n",
       "      <td>1411.463705</td>\n",
       "      <td>3.249376e+06</td>\n",
       "      <td>2.729471</td>\n",
       "      <td>29.467660</td>\n",
       "      <td>0.799426</td>\n",
       "    </tr>\n",
       "    <tr>\n",
       "      <th>min</th>\n",
       "      <td>3.625937</td>\n",
       "      <td>-0.743522</td>\n",
       "      <td>-19.283003</td>\n",
       "      <td>46.000000</td>\n",
       "      <td>1.613000e+03</td>\n",
       "      <td>8.000000</td>\n",
       "      <td>-18.076791</td>\n",
       "      <td>1.000000</td>\n",
       "    </tr>\n",
       "    <tr>\n",
       "      <th>25%</th>\n",
       "      <td>16.000000</td>\n",
       "      <td>4.000000</td>\n",
       "      <td>102.500000</td>\n",
       "      <td>78.000000</td>\n",
       "      <td>2.259500e+03</td>\n",
       "      <td>13.700000</td>\n",
       "      <td>73.000000</td>\n",
       "      <td>1.000000</td>\n",
       "    </tr>\n",
       "    <tr>\n",
       "      <th>50%</th>\n",
       "      <td>21.500000</td>\n",
       "      <td>5.056846</td>\n",
       "      <td>151.000000</td>\n",
       "      <td>96.000000</td>\n",
       "      <td>2.930000e+03</td>\n",
       "      <td>15.500000</td>\n",
       "      <td>76.000000</td>\n",
       "      <td>1.000000</td>\n",
       "    </tr>\n",
       "    <tr>\n",
       "      <th>75%</th>\n",
       "      <td>28.050000</td>\n",
       "      <td>8.000000</td>\n",
       "      <td>302.000000</td>\n",
       "      <td>145.000000</td>\n",
       "      <td>3.860000e+03</td>\n",
       "      <td>17.000000</td>\n",
       "      <td>80.000000</td>\n",
       "      <td>2.000000</td>\n",
       "    </tr>\n",
       "    <tr>\n",
       "      <th>max</th>\n",
       "      <td>46.600000</td>\n",
       "      <td>31.872541</td>\n",
       "      <td>604.080466</td>\n",
       "      <td>10222.846370</td>\n",
       "      <td>1.879313e+07</td>\n",
       "      <td>24.800000</td>\n",
       "      <td>284.100062</td>\n",
       "      <td>3.000000</td>\n",
       "    </tr>\n",
       "  </tbody>\n",
       "</table>\n",
       "</div>"
      ],
      "text/plain": [
       "              mpg   cylinders  displacement    horsepower        weight  \\\n",
       "count  423.000000  423.000000    423.000000    423.000000  4.230000e+02   \n",
       "mean    22.151443    5.824960    196.756004    477.616796  8.785400e+05   \n",
       "std      8.817102    2.720733    111.032114   1411.463705  3.249376e+06   \n",
       "min      3.625937   -0.743522    -19.283003     46.000000  1.613000e+03   \n",
       "25%     16.000000    4.000000    102.500000     78.000000  2.259500e+03   \n",
       "50%     21.500000    5.056846    151.000000     96.000000  2.930000e+03   \n",
       "75%     28.050000    8.000000    302.000000    145.000000  3.860000e+03   \n",
       "max     46.600000   31.872541    604.080466  10222.846370  1.879313e+07   \n",
       "\n",
       "       acceleration        year      origin  \n",
       "count    423.000000  423.000000  423.000000  \n",
       "mean      15.538771   82.095406    1.569740  \n",
       "std        2.729471   29.467660    0.799426  \n",
       "min        8.000000  -18.076791    1.000000  \n",
       "25%       13.700000   73.000000    1.000000  \n",
       "50%       15.500000   76.000000    1.000000  \n",
       "75%       17.000000   80.000000    2.000000  \n",
       "max       24.800000  284.100062    3.000000  "
      ]
     },
     "execution_count": 47,
     "metadata": {},
     "output_type": "execute_result"
    }
   ],
   "source": [
    "import os\n",
    "import pandas as pd\n",
    "import numpy as np\n",
    "import matplotlib.pyplot as plt\n",
    "from sklearn.model_selection import cross_val_score, train_test_split\n",
    "from sklearn.linear_model import Ridge\n",
    "from sklearn.linear_model import LinearRegression\n",
    "# path to dataset\n",
    "DATASET = '/dsa/data/all_datasets/autoMPG-1.txt'\n",
    "assert os.path.exists(DATASET)   # check if datafile is present\n",
    "\n",
    "# Read your data into a DataFrame called 'dataset'\n",
    "dataset = pd.read_csv(DATASET, index_col=0).dropna().sample(frac=1).reset_index(drop = True)\n",
    "dataset.describe()\n",
    "\n"
   ]
  },
  {
   "cell_type": "markdown",
   "metadata": {},
   "source": [
    "Pull columns from dataset into variables X (everything except mpg) and y (mpg)."
   ]
  },
  {
   "cell_type": "code",
   "execution_count": 48,
   "metadata": {},
   "outputs": [],
   "source": [
    "# Complete code below this comment  (Question #001)\n",
    "# ----------------------------------\n",
    "\n",
    "\n",
    "X = np.array(dataset.loc[:,~dataset.columns.isin(['mpg','car_name'])])\n",
    "y = np.array(dataset['mpg'])"
   ]
  },
  {
   "cell_type": "markdown",
   "metadata": {},
   "source": [
    "Create training/validation split with 30% held out. "
   ]
  },
  {
   "cell_type": "code",
   "execution_count": 49,
   "metadata": {},
   "outputs": [],
   "source": [
    "# Complete code below this comment  (Question #E002)\n",
    "# ----------------------------------\n",
    "\n",
    "X_train, X_test, y_train, y_test = train_test_split(X, y, test_size=0.3)\n",
    "\n"
   ]
  },
  {
   "cell_type": "markdown",
   "metadata": {},
   "source": [
    "Fit a Ridge regressor without anomaly detection and report R^2 measure on the train set."
   ]
  },
  {
   "cell_type": "code",
   "execution_count": 50,
   "metadata": {},
   "outputs": [
    {
     "data": {
      "text/plain": [
       "0.6053742570084019"
      ]
     },
     "execution_count": 50,
     "metadata": {},
     "output_type": "execute_result"
    }
   ],
   "source": [
    "# Complete code below this comment  (Question #E003)\n",
    "# ----------------------------------\n",
    "\n",
    "raw_model = Ridge().fit(X_train, y_train)\n",
    "y_pred = raw_model.predict(X_train)\n",
    "from sklearn.metrics import r2_score\n",
    "r_two1 = r2_score(y_train,y_pred)\n",
    "r_two1"
   ]
  },
  {
   "cell_type": "markdown",
   "metadata": {},
   "source": [
    "Create prediction from X_test and store into variable <span style=\"background: yellow;\">naive_predictions</span>. Report R^2 measure."
   ]
  },
  {
   "cell_type": "code",
   "execution_count": 51,
   "metadata": {},
   "outputs": [
    {
     "data": {
      "text/plain": [
       "0.6463188287757796"
      ]
     },
     "execution_count": 51,
     "metadata": {},
     "output_type": "execute_result"
    }
   ],
   "source": [
    "# Complete code below this comment  (Question #E004)\n",
    "# ----------------------------------\n",
    "\n",
    "naive_predictions = raw_model.predict(X_test)\n",
    "r_two2 = r2_score(y_test,naive_predictions)\n",
    "r_two2"
   ]
  },
  {
   "cell_type": "markdown",
   "metadata": {},
   "source": [
    "Create a scatter plot of y_test against naive predictions.  \n",
    "The following is for reference.\n",
    "\n",
    "~~~python\n",
    "plt.scatter(<placeholder>, <placeholder>)\n",
    "plt.title(\"No outlier reduction\")\n",
    "plt.xlabel(\"Y-actual (raw splits)\")\n",
    "plt.ylabel(\"Y-predicted (from raw model)\")\n",
    "plt.show()\n",
    "~~~"
   ]
  },
  {
   "cell_type": "code",
   "execution_count": 52,
   "metadata": {},
   "outputs": [
    {
     "data": {
      "image/png": "[encoded data removed]",
      "text/plain": [
       "<Figure size 432x288 with 1 Axes>"
      ]
     },
     "metadata": {
      "needs_background": "light"
     },
     "output_type": "display_data"
    }
   ],
   "source": [
    "# Complete code below this comment  (Question #E005)\n",
    "# ----------------------------------\n",
    "\n",
    "plt.scatter(y_test,naive_predictions)\n",
    "plt.title(\"No outlier reduction\")\n",
    "plt.xlabel(\"Y-actual (raw splits)\")\n",
    "plt.ylabel(\"Y-predicted (from raw model)\")\n",
    "plt.show()\n",
    "\n",
    "\n"
   ]
  },
  {
   "cell_type": "markdown",
   "metadata": {},
   "source": [
    "### Using a model of your choice, remove outliers from X and y.\n",
    "\n",
    "Import your tools for outlier reduction.  \n",
    "Options include: `KMeans`, `EllipticEnvelope`, `IsolationForest`, and `OneClassSVM`. "
   ]
  },
  {
   "cell_type": "code",
   "execution_count": 53,
   "metadata": {},
   "outputs": [],
   "source": [
    "# Complete code below this comment  (Question #E006)\n",
    "# ----------------------------------\n",
    "from sklearn.ensemble import IsolationForest\n",
    "\n",
    "\n",
    "\n"
   ]
  },
  {
   "cell_type": "markdown",
   "metadata": {},
   "source": [
    "Create training/test set with the removal of outliers from the above training/test set. "
   ]
  },
  {
   "cell_type": "code",
   "execution_count": 61,
   "metadata": {},
   "outputs": [
    {
     "name": "stdout",
     "output_type": "stream",
     "text": [
      "Num of outliers = 30\n",
      "Num of outliers = 13\n"
     ]
    }
   ],
   "source": [
    "# Complete code below this comment  (Question #E007)\n",
    "# ----------------------------------\n",
    "iso_forest = IsolationForest(contamination=0.1).fit(X_train, y_train)\n",
    "iso_outliers = iso_forest.predict(X_train)==-1\n",
    "print(f\"Num of outliers = {np.sum(iso_outliers)}\")\n",
    "X_trainiso = X_train[~iso_outliers]\n",
    "y_trainiso = y_train[~iso_outliers]\n",
    "\n",
    "iso_foresttest = IsolationForest(contamination=0.1).fit(X_test, y_test)\n",
    "iso_outlierstest = iso_foresttest.predict(X_test)==-1\n",
    "print(f\"Num of outliers = {np.sum(iso_outlierstest)}\")\n",
    "X_testiso = X_test[~iso_outlierstest]\n",
    "y_testiso = y_test[~iso_outlierstest]\n",
    "\n",
    "\n",
    "## our practices and labs didn't show removing outliers in the testing set, but I will do this anyway as this is what the question implies we should do 'Create training/test set with the removal of outliers from the above training/test set'"
   ]
  },
  {
   "cell_type": "markdown",
   "metadata": {},
   "source": [
    "Fit a new model against inliers and print score (R^2) for the model."
   ]
  },
  {
   "cell_type": "code",
   "execution_count": 62,
   "metadata": {},
   "outputs": [
    {
     "data": {
      "text/plain": [
       "0.8318076562859983"
      ]
     },
     "execution_count": 62,
     "metadata": {},
     "output_type": "execute_result"
    }
   ],
   "source": [
    "# Complete code below this comment  (Question #E008)\n",
    "# ----------------------------------\n",
    "\n",
    "iso_model = LinearRegression()\n",
    "iso_model.fit(X_trainiso, y_trainiso)\n",
    "\n",
    "\n",
    "iso_predictions = iso_model.predict(X_trainiso)\n",
    "r_two3 = r2_score(y_trainiso,iso_predictions)\n",
    "r_two3"
   ]
  },
  {
   "cell_type": "markdown",
   "metadata": {},
   "source": [
    "Predict with the test set, report R^2, and plot y-actual against y-predicted again for labels in testing set."
   ]
  },
  {
   "cell_type": "code",
   "execution_count": 71,
   "metadata": {},
   "outputs": [
    {
     "name": "stdout",
     "output_type": "stream",
     "text": [
      "0.8244089030050994\n"
     ]
    },
    {
     "data": {
      "image/png": "[encoded data removed]",
      "text/plain": [
       "<Figure size 432x288 with 1 Axes>"
      ]
     },
     "metadata": {
      "needs_background": "light"
     },
     "output_type": "display_data"
    }
   ],
   "source": [
    "# Complete code below this comment  (Question #E009)\n",
    "# ----------------------------------\n",
    "\n",
    "iso_predictionstest = iso_model.predict(X_testiso)\n",
    "r_two4 = r2_score(y_testiso, iso_predictionstest)\n",
    "print(r_two4)\n",
    "\n",
    "\n",
    "plt.scatter(y_testiso,iso_predictionstest)\n",
    "plt.title(\"Outlier Reduction : Isolation Forest \")\n",
    "plt.xlabel(\"Y-actual (Isolation Forest)\")\n",
    "plt.ylabel(\"Y-predicted (from inlier only model)\")\n",
    "plt.show()\n",
    "\n",
    "##again, am using the test set that was made without outliers as the question isn't specific as to which is preferred (our orginial testing set or our testing set without outliers) "
   ]
  },
  {
   "cell_type": "markdown",
   "metadata": {},
   "source": [
    "Pickle (serialize) your model as the file named: `my_module_4_model.pkl`"
   ]
  },
  {
   "cell_type": "code",
   "execution_count": 73,
   "metadata": {},
   "outputs": [
    {
     "data": {
      "text/plain": [
       "['my_module_4_model.pkl']"
      ]
     },
     "execution_count": 73,
     "metadata": {},
     "output_type": "execute_result"
    }
   ],
   "source": [
    "# Complete code below this comment  (Question #E010)\n",
    "# ----------------------------------\n",
    "\n",
    "\n",
    "import joblib\n",
    "joblib.dump(iso_model, 'my_module_4_model.pkl')\n",
    "\n"
   ]
  },
  {
   "cell_type": "markdown",
   "metadata": {},
   "source": [
    "# Save your notebook!"
   ]
  }
 ],
 "metadata": {
  "kernelspec": {
   "display_name": "Python 3",
   "language": "python",
   "name": "python3"
  },
  "language_info": {
   "codemirror_mode": {
    "name": "ipython",
    "version": 3
   },
   "file_extension": ".py",
   "mimetype": "text/x-python",
   "name": "python",
   "nbconvert_exporter": "python",
   "pygments_lexer": "ipython3",
   "version": "3.7.3"
  }
 },
 "nbformat": 4,
 "nbformat_minor": 4
}
