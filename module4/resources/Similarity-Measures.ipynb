{
 "cells": [
  {
   "cell_type": "markdown",
   "metadata": {
    "toc": "true"
   },
   "source": [
    "# Table of Contents\n",
    " <p><div class=\"lev1 toc-item\"><a href=\"#Similarity-(or-Dissimilarity)-Measurement\" data-toc-modified-id=\"Similarity-(or-Dissimilarity)-Measurement-1\"><span class=\"toc-item-num\">1&nbsp;&nbsp;</span>Similarity (or Dissimilarity) Measurement</a></div><div class=\"lev2 toc-item\"><a href=\"#What-is-the-difference-between-a-measure-and-a-metric-(or-distance-function)?\" data-toc-modified-id=\"What-is-the-difference-between-a-measure-and-a-metric-(or-distance-function)?-11\"><span class=\"toc-item-num\">1.1&nbsp;&nbsp;</span>What is the difference between a measure and a metric (or distance function)?</a></div><div class=\"lev2 toc-item\"><a href=\"#Some-popular-similarity-measures\" data-toc-modified-id=\"Some-popular-similarity-measures-12\"><span class=\"toc-item-num\">1.2&nbsp;&nbsp;</span>Some popular similarity measures</a></div>"
   ]
  },
  {
   "cell_type": "markdown",
   "metadata": {},
   "source": [
    "\n",
    "# Similarity (or Dissimilarity) Measurement\n",
    "\n",
    "**Similarity** refers to the likeness of two objects. A **proximity measure** can be used to describe similarity or dissimilarity  between two objects. Formally, it is a numerical measure of the degree to which the two objects are alike. The similarity is higher for pair of objects that are more alike, and the similarity values are non-negative and between 0 (no similarity) & 1 (complete similarity).\n",
    "\n",
    "Why do we need similarity measures? Many data mining and information retrieval methods require similarity or distance measures. E.g., clustering, anomaly detection, classification, information retrieval, and recommender systems. Similarity is related to closeness, whereas distance is related to dissimilarity. If the similarity between two observations is $S$, then distance measure could be defined as $D = 1 - S$. \n",
    "\n",
    "\n",
    "## What is the difference between a measure and a metric (or distance function)?\n",
    "\n",
    "Both measure and metric are defined on a set of observations. A metric is a function (aka distance function), and it must satisfy the following three properties:\n",
    "1. identity: $d(x,x) = 0$ or if $d(x,y) = 0$, then $x = y$\n",
    "2. symmetry: $d(x,y) = d(y,x)$\n",
    "3. triangle inequality: $d(x,y) \\le d(x,z) + d(z,y)$\n",
    "\n",
    "A measure is also a function defined on a set, but it may not satisfy property 2 and 3. E.g., Euclidean distance is metric as it satisfy all of the three properties while cosine similarity measures is not a metric as it does not have the triangle inequality property.\n",
    "\n",
    "\n",
    "\n",
    "## Some popular similarity measures\n",
    "\n",
    "See this [article](https://towardsdatascience.com/importance-of-distance-metrics-in-machine-learning-modelling-e51395ffe60d) to learn more about the following distance and similarity measures. \n",
    "\n",
    "* Minkowski Distance\n",
    "* Euclidean Distance\n",
    "* Manhattan Distance\n",
    "* Mahalanobis Distance\n",
    "* Cosine similarity\n",
    "\n",
    "\n"
   ]
  }
 ],
 "metadata": {
  "kernelspec": {
   "display_name": "Python 3",
   "language": "python",
   "name": "python3"
  },
  "language_info": {
   "codemirror_mode": {
    "name": "ipython",
    "version": 3
   },
   "file_extension": ".py",
   "mimetype": "text/x-python",
   "name": "python",
   "nbconvert_exporter": "python",
   "pygments_lexer": "ipython3",
   "version": "3.7.3"
  },
  "latex_envs": {
   "LaTeX_envs_menu_present": true,
   "bibliofile": "biblio.bib",
   "cite_by": "apalike",
   "current_citInitial": 1,
   "eqLabelWithNumbers": true,
   "eqNumInitial": 1,
   "labels_anchors": false,
   "latex_user_defs": false,
   "report_style_numbering": false,
   "user_envs_cfg": false
  },
  "toc": {
   "colors": {
    "hover_highlight": "#DAA520",
    "running_highlight": "#FF0000",
    "selected_highlight": "#FFD700"
   },
   "moveMenuLeft": true,
   "nav_menu": {
    "height": "66.5341px",
    "width": "251.989px"
   },
   "navigate_menu": true,
   "number_sections": true,
   "sideBar": true,
   "threshold": 4,
   "toc_cell": true,
   "toc_section_display": "block",
   "toc_window_display": false
  }
 },
 "nbformat": 4,
 "nbformat_minor": 4
}
