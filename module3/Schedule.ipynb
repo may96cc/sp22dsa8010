{
 "cells": [
  {
   "cell_type": "markdown",
   "metadata": {},
   "source": [
    "# 3 \n",
    "# Dimensionality Reduction: Feature Selection and Feature Extraction"
   ]
  },
  {
   "cell_type": "markdown",
   "metadata": {},
   "source": [
    "## Module Topics\n",
    "### Machine Learning Overview\n",
    "  * Feature Selection\n",
    "    * Filter Method\n",
    "        * Pearson Correlation and ANOVA-F\n",
    "        * Mutual Information\n",
    "    * Wrapper Method\n",
    "        * Forward Selection\n",
    "        * Backward Elimination\n",
    "  * Feature Extraction/Dimensionality Reduction\n",
    "    * PCA: Principal Component Analysis\n",
    "    * Factor Analysis\n"
   ]
  },
  {
   "cell_type": "markdown",
   "metadata": {},
   "source": [
    "## Readings\n",
    "\n",
    "* [Curse of Dimensionality](https://towardsdatascience.com/the-curse-of-dimensionality-minus-the-curse-of-jargon-520da109fc87\n",
    ")\n",
    "* Feature Selection [[slides](./resources/feature-selection.pdf)]\n",
    "    * Scholarly [Paper (2003)](http://www.jmlr.org/papers/volume3/guyon03a/guyon03a.pdf), just browse for now and consider a longer term reference\n",
    "    * [Wikipedia: Feature Selection](https://en.wikipedia.org/wiki/Feature_selection)\n",
    "* Feature Extraction [[slides](./resources/feature-extraction.pdf)]\n",
    "    * [StatQuest: Principal Component Analysis (PCA), Step-by-Step](https://www.youtube.com/watch?v=FgakZw6K1QQ)\n",
    "    * [PCA Blog Post](https://coolstatsblog.com/2015/03/21/principal-component-analysis-explained/)\n",
    "    * [PCA - how to choose the number of components?](https://www.mikulskibartosz.name/pca-how-to-choose-the-number-of-components/)\n",
    "    * [Factor Analysis Explained](http://www.statisticshowto.com/factor-analysis/)\n",
    "* [Introduction to Dimensionality Reduction for Machine Learning](https://machinelearningmastery.com/dimensionality-reduction-for-machine-learning/)\n",
    "* [Dimensionality reduction techniques you should know](https://towardsdatascience.com/11-dimensionality-reduction-techniques-you-should-know-in-2021-dcb9500d388b)\n",
    "* [Dimensionality Reduction Algorithms: Strengths and Weaknesses](https://elitedatascience.com/dimensionality-reduction-algorithms#:~:text=Feature%20selection%20is%20for%20filtering,extraction%20creates%20brand%20new%20ones)\n",
    "\n",
    "\n",
    "**For those that would like some extra _Linear Algebra_ refresher (explanatory videos)**\n",
    " * [Linear Transformations](https://youtu.be/kYB8IZa5AuE)\n",
    " * [Change of Basis](https://youtu.be/P2LTAUO1TdA)\n",
    " * [Eigen Vectors and Values (key of PCA)](https://youtu.be/PFDu9oVAE-g)"
   ]
  },
  {
   "cell_type": "markdown",
   "metadata": {},
   "source": [
    "## Labs\n",
    "\n",
    "The goal of the labs this module are to refresh and further explore the use of feature reduction techniques.\n",
    "Note: Some of the math is advanced linear algebra.\n",
    "Do not feel like you need to understand all of it right now.\n",
    "Also, recall that PCA was covered in Stat/Math, so you may want to revisit the discussion there as well.\n",
    "\n",
    "  * [Feature Selection](./labs/FeatureSelection.ipynb)\n",
    "  * Dimensionality Reduction \n",
    "      * [Principal Component Analysis](./labs/PCA.ipynb)\n",
    "      * [Factor Analysis](./labs/FactorAnalysis.ipynb)\n"
   ]
  },
  {
   "cell_type": "markdown",
   "metadata": {},
   "source": [
    "## Practices\n",
    "\n",
    "  * [Feature Selection](./practices/FeatureSelection.ipynb)\n",
    "  * [Feature Extraction](./practices/FeatureExtraction.ipynb)\n",
    "\n",
    "Check `answers-practices` folder for solutions. "
   ]
  },
  {
   "cell_type": "markdown",
   "metadata": {},
   "source": [
    "#### Food for Thought: \n",
    "* [When PCA Attacks](./resources/When_PCA_Attacks.ipynb)\n",
    "\n",
    "## Exercises\n",
    "\n",
    "  * [Dimensionality Reduction](./exercises/DimensionReduction.ipynb)\n"
   ]
  },
  {
   "cell_type": "markdown",
   "metadata": {},
   "source": [
    "## Submitting your work\n",
    "\n",
    "#### Steps:\n",
    "  1. Open Terminal in JupyterHub\n",
    "  1. Change into the course folder\n",
    "  1. Stage (Git Add) the module's practive and exercise work   \n",
    "  `git  add   module3/practices    module3/exercises`\n",
    "  1. Create your work snapshot (Git Commit)  \n",
    "  `git   commit   -m   \"Module 3 submission\"`\n",
    "  1. Upload the snapshot to the server (Git Push)  \n",
    "  `git   push`\n"
   ]
  },
  {
   "cell_type": "markdown",
   "metadata": {},
   "source": [
    "## Congratulations, you have completed the learning activities for this module!"
   ]
  }
 ],
 "metadata": {
  "kernelspec": {
   "display_name": "Python 3",
   "language": "python",
   "name": "python3"
  },
  "language_info": {
   "codemirror_mode": {
    "name": "ipython",
    "version": 3
   },
   "file_extension": ".py",
   "mimetype": "text/x-python",
   "name": "python",
   "nbconvert_exporter": "python",
   "pygments_lexer": "ipython3",
   "version": "3.7.3"
  }
 },
 "nbformat": 4,
 "nbformat_minor": 4
}
