{
 "cells": [
  {
   "cell_type": "markdown",
   "metadata": {},
   "source": [
    "# Module 3: Feature extraction - Practice\n",
    "\n",
    "In this session you will practice feature extraction with **Principal Componentent Analysis**\n",
    "and **Factor Analysis**.\n",
    "\n",
    "We are going to use **titanic** dataset.\n",
    "\n",
    "sklearn API reference:\n",
    "\n",
    "+ [sklearn.decomposition.PCA](http://scikit-learn.org/stable/modules/generated/sklearn.decomposition.PCA.html)\n",
    "+ [sklearn.decomposition.FactorAnalysis](http://scikit-learn.org/stable/modules/generated/sklearn.decomposition.FactorAnalysis.html)"
   ]
  },
  {
   "cell_type": "code",
   "execution_count": null,
   "metadata": {},
   "outputs": [],
   "source": [
    "%matplotlib inline\n",
    "import matplotlib.pyplot as plt\n",
    "\n",
    "import os, sys\n",
    "import numpy as np\n",
    "import pandas as pd\n",
    "from sklearn.decomposition import PCA\n",
    "from sklearn.decomposition import FactorAnalysis\n",
    "from sklearn.preprocessing import scale\n",
    "\n",
    "from scipy.stats import pearsonr\n",
    "\n",
    "np.random.seed(18937)"
   ]
  },
  {
   "cell_type": "markdown",
   "metadata": {},
   "source": [
    "## Load dataset"
   ]
  },
  {
   "cell_type": "code",
   "execution_count": null,
   "metadata": {},
   "outputs": [],
   "source": [
    "# Dataset location (Question #P101)\n",
    "DATASET = '/dsa/data/all_datasets/titanic_ML/titanic.csv'\n",
    "assert os.path.exists(DATASET)\n",
    "\n",
    "# Load and shuffle\n",
    "dataset = pd.read_csv(DATASET).sample(frac = 1).reset_index(drop=True)\n",
    "dataset.describe()"
   ]
  },
  {
   "cell_type": "markdown",
   "metadata": {},
   "source": [
    "Create variable **X** and **y** and pull features and labels respectively."
   ]
  },
  {
   "cell_type": "code",
   "execution_count": null,
   "metadata": {},
   "outputs": [],
   "source": [
    "X = dataset.iloc[:, :-1]\n",
    "y = dataset.survived"
   ]
  },
  {
   "cell_type": "markdown",
   "metadata": {},
   "source": [
    "**Initialize** and **fit** both a PCA and a FactorAnalysis feature extractors <span style=\"background: yellow\">with 5 components</span>."
   ]
  },
  {
   "cell_type": "code",
   "execution_count": null,
   "metadata": {},
   "outputs": [],
   "source": [
    "# Add your code below this comment for PCA (Question #P102)\n",
    "# ----------------------------------\n",
    "pca = PCA(n_components=5)\n",
    "pca.fit(X)\n",
    "\n",
    "# Add your code below this comment for FA (Question #P103)\n",
    "# ----------------------------------\n",
    "fa = FactorAnalysis(n_components=5)\n",
    "fa.fit(X)"
   ]
  },
  {
   "cell_type": "markdown",
   "metadata": {},
   "source": [
    "## Print explained variance ratio for each extracted feature"
   ]
  },
  {
   "cell_type": "code",
   "execution_count": null,
   "metadata": {},
   "outputs": [],
   "source": [
    "# Complete code below this comment for PCA (Question #P104)\n",
    "# ----------------------------------\n",
    "print('PCA', pca.explained_variance_ratio_)"
   ]
  },
  {
   "cell_type": "code",
   "execution_count": null,
   "metadata": {},
   "outputs": [],
   "source": [
    "# Complete code below this comment for FA (Question #P105)\n",
    "# ----------------------------------\n",
    "def FA_explained_variance_ratio(fa):\n",
    "    fa.explained_variance_ = np.flip(np.sort(np.sum(fa.components_**2, axis=1)), axis=0)\n",
    "    total_variance = np.sum(fa.explained_variance_) + np.sum(fa.noise_variance_)\n",
    "    fa.explained_variance_ratio_ = fa.explained_variance_ / total_variance\n",
    "\n",
    "FA_explained_variance_ratio(fa)\n",
    "print('FA', fa.explained_variance_ratio_)"
   ]
  },
  {
   "cell_type": "markdown",
   "metadata": {},
   "source": [
    "## Compute correlation coefficient for each of the extracted features and the target\n",
    "\n",
    "1) Use [scipy.stats.pearsonr()](https://docs.scipy.org/doc/scipy/reference/generated/scipy.stats.pearsonr.html)"
   ]
  },
  {
   "cell_type": "code",
   "execution_count": null,
   "metadata": {},
   "outputs": [],
   "source": [
    "# Complete code below this comment for PCA (Question #P106)\n",
    "# ----------------------------------\n",
    "X_PCA = pca.transform(X)\n",
    "print([pearsonr(X_PCA[:,i], y)[0] for i in range(X_PCA.shape[1])])\n",
    "\n",
    "# Complete code below this comment for FA (Question #P107)\n",
    "# ----------------------------------\n",
    "X_FA = fa.transform(X)\n",
    "print([pearsonr(X_FA[:,i], y)[0] for i in range(X_FA.shape[1])])"
   ]
  },
  {
   "cell_type": "markdown",
   "metadata": {},
   "source": [
    "2) We encourage you to attempt the same using the following equation, where j is index for features.\n",
    "\n",
    "$$ r_j = \\frac{\\sigma_{X_j y}}{\\sigma_{X_j} \\sigma_y} = \\frac{(y-\\bar y)^T (X_j-\\bar {X_j})}{\\lVert X_j-\\bar {X_j}\\rVert \\cdot \\lVert y-\\bar y\\rVert} = cos \\measuredangle(X_j-\\bar {X_j}, y-\\bar y) $$\n",
    "\n",
    "\n",
    "\n",
    "$(X-\\bar X)$ and $(y-\\bar y)$ are given as **X_centered** and **y_centered** respectively.\n"
   ]
  },
  {
   "cell_type": "code",
   "execution_count": null,
   "metadata": {},
   "outputs": [],
   "source": [
    "# Complete code below this comment for PCA (Question #P108)\n",
    "# ----------------------------------\n",
    "\n",
    "X_centered = scale(X_PCA, with_std = False)\n",
    "y_centered = scale(y.astype(float), with_std = False)\n",
    "\n",
    "# Either of the following are possible answers\n",
    "# ----------------------------------\n",
    "cosine = lambda a,b: np.dot(a, b) / (np.linalg.norm(a) * np.linalg.norm(b))\n",
    "print([cosine(X_centered[:, j], y_centered) for j in range(X_PCA.shape[1])])\n",
    "\n",
    "# --  OR  --------------------------\n",
    "\n",
    "print(np.dot(y_centered, X_centered) / np.linalg.norm(X_centered, axis=0) / np.linalg.norm(y_centered))\n"
   ]
  },
  {
   "cell_type": "markdown",
   "metadata": {},
   "source": [
    "## Scree plot\n",
    "\n",
    "Create a scree plot for PCA's explained variance ratio below."
   ]
  },
  {
   "cell_type": "code",
   "execution_count": null,
   "metadata": {},
   "outputs": [],
   "source": [
    "x_ticks = np.arange(len(pca.components_))+1\n",
    "plt.xticks(x_ticks) # this enforces integers on the x-axis\n",
    "# Complete code below this comment for PCA (Question #P109)\n",
    "# ----------------------------------\n",
    "plt.plot(x_ticks, pca.explained_variance_ratio_)"
   ]
  },
  {
   "cell_type": "markdown",
   "metadata": {},
   "source": [
    "Create a scree plot for FA's explained variance ratio below."
   ]
  },
  {
   "cell_type": "code",
   "execution_count": null,
   "metadata": {},
   "outputs": [],
   "source": [
    "x_ticks = np.arange(len(fa.components_))+1\n",
    "plt.xticks(x_ticks) # this enforces integers on the x-axis\n",
    "# Complete code below this comment for FA (Question #P110)\n",
    "# ----------------------------------\n",
    "plt.plot(x_ticks, fa.explained_variance_ratio_)"
   ]
  },
  {
   "cell_type": "markdown",
   "metadata": {},
   "source": [
    "Plot both in the same figure below <span style=\"background: yellow;\">in log-scale</span>."
   ]
  },
  {
   "cell_type": "code",
   "execution_count": null,
   "metadata": {},
   "outputs": [],
   "source": [
    "# Complete code below this comment for FA (Question #P111)\n",
    "# ----------------------------------\n",
    "x_ticks = np.arange(len(pca.components_))+1\n",
    "plt.xticks(x_ticks) # this enforces integers on the x-axis\n",
    "plt.plot(x_ticks, np.log(pca.explained_variance_ratio_), 'b')\n",
    "plt.plot(x_ticks, np.log(fa.explained_variance_ratio_), 'r')\n",
    "plt.show()"
   ]
  },
  {
   "cell_type": "markdown",
   "metadata": {},
   "source": [
    "Which do you think performed better for this dataset? PCA or FA? What makes you think so?"
   ]
  },
  {
   "cell_type": "raw",
   "metadata": {},
   "source": [
    "# Add your answer below this comment (Question #P112)\n",
    "# -----------------------------------\n",
    "\n",
    "PCA did slightly better in capturing the variance of the dataset if we consider 5/6 decimal places. "
   ]
  },
  {
   "cell_type": "markdown",
   "metadata": {},
   "source": [
    "# Save your notebook!"
   ]
  }
 ],
 "metadata": {
  "kernelspec": {
   "display_name": "Python 3",
   "language": "python",
   "name": "python3"
  },
  "language_info": {
   "codemirror_mode": {
    "name": "ipython",
    "version": 3
   },
   "file_extension": ".py",
   "mimetype": "text/x-python",
   "name": "python",
   "nbconvert_exporter": "python",
   "pygments_lexer": "ipython3",
   "version": "3.7.3"
  }
 },
 "nbformat": 4,
 "nbformat_minor": 4
}
