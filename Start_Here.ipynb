{
 "cells": [
  {
   "cell_type": "markdown",
   "metadata": {},
   "source": [
    "# Applied Machine Learning\n",
    "\n",
    "This course leverages the foundations in statistics and modeling to teach applied concepts in machine learning (ML). \n",
    "Participants will learn various classes of machine learning and modeling techniques, \n",
    "and gain an in-depth understanding how to select appropriate techniques for various data science tasks. \n",
    "Topics cover a spectrum from simple Bayesian modeling to more advanced algorithms such as support vector machines, \n",
    "decision trees/forests, and neural networks. \n",
    "Students learn to incorporate machine learning workflows into data-intensive analytical processes."
   ]
  },
  {
   "cell_type": "markdown",
   "metadata": {},
   "source": [
    "Please use `DMIR` container for this course. "
   ]
  },
  {
   "cell_type": "markdown",
   "metadata": {},
   "source": [
    "## Syllabus\n",
    "+ [AML-8010](AML-8010-Syllabus.pdf)\n",
    "\n",
    "## Course Module Schedule\n",
    "\n",
    "  0. [Overview of DSA System, Python, Pandas](./module0/Schedule.ipynb)\n",
    "  1. [Intro to Machine Learning & Supervised Learning](./module1/Schedule.ipynb)\n",
    "  2. [Supervised Learning: Classification & Regression](./module2/Schedule.ipynb)\n",
    "  3. [Feature Selection & Dimensionality Reduction](./module3/Schedule.ipynb)\n",
    "  4. [Unsupervised Learning: Clustering & Anomaly Detection](./module4/Schedule.ipynb)\n",
    "  5. [Grid Search and Pipeline](./module5/Schedule.ipynb)\n",
    "  6. [Begin : Hard Scikit Learn Project - Part I](./module6/Schedule.ipynb)\n",
    "  7. [Conclude: Scikit Learn Project - Part II](./module7/Schedule.ipynb)\n",
    "  8. [Intro to Neural Networks](./module8/Schedule.ipynb)\n",
    "  \n",
    "### Weekly Module Download\n",
    "\n",
    "Each Monday morning, the new module will become available.\n",
    "You will be using Git Pull to acquire the module's learning activities.  \n",
    "Clicking on the modules above before the content is pulled is expected to give you a **404 Error**\n",
    "\n",
    "#### Steps:\n",
    "  1. Open Terminal in JupyterHub\n",
    "  1. Change into the course folder\n",
    "  1. Execute command:  \n",
    "  `git pull   --no-edit   upstream   master`"
   ]
  },
  {
   "cell_type": "markdown",
   "metadata": {},
   "source": [
    "## Technologies\n",
    "  * Linux Terminal Environment (Tmux, Screen, and related)\n",
    "  * Scikit - Learn (Python)\n",
    "  * TensorFlow (Python)\n",
    "  * SparkML (Python)\n",
    "  * Potentially:  Google Cloud Platform w/ Tensor Processing Units (TPU)"
   ]
  },
  {
   "cell_type": "markdown",
   "metadata": {},
   "source": [
    "## Weekly Module Schedule\n",
    "This is the suggested weekly schedule for each module\n",
    "  * Saturday - Tuesday: Readings, Videos, Labs and Practices\n",
    "  * Monday - Wednesday: Discussion Board Activities\n",
    "  * Wednesday - Saturday: Weekly Exercise(s)\n",
    "  \n",
    "All material will be released at the beginning of each module to allow you to work through the week and manage your time as needed.\n",
    "\n",
    "Module exercises will be collected just past Noon Central time on the Saturday after the exercise was assigned.\n",
    "\n",
    "Exercises should be submitted by way of Git : Add, Commit, Push. More details will be provided in the learning activities on JupyterHub."
   ]
  },
  {
   "cell_type": "markdown",
   "metadata": {},
   "source": [
    "## Resources\n",
    "\n",
    "Each module will have reading links and resources.\n",
    "Please consult the weekly `Schedule` notebook for details and modular particulars."
   ]
  },
  {
   "cell_type": "markdown",
   "metadata": {},
   "source": [
    "# Submission\n",
    "\n",
    "You should be submitting two sets of work each week:\n",
    " 1. Practices, typically use git to add the files such as (module 1 example)\n",
    "```\n",
    "git add module1/practices\n",
    "git commit -m 'my module 1 practices'\n",
    "git push\n",
    "```\n",
    " 2. Exercises, typically (module 1 example)\n",
    "```\n",
    "git add module1/exercises\n",
    "git commit -m 'my module 1 exercises'\n",
    "git push\n",
    "```\n",
    "\n",
    "Remember, you can commit as often as you want, even partial solutions.\n",
    "The collection system gets the sum of all changes that have been pushed at the module Due date/time."
   ]
  }
 ],
 "metadata": {
  "kernelspec": {
   "display_name": "Python 3",
   "language": "python",
   "name": "python3"
  },
  "language_info": {
   "codemirror_mode": {
    "name": "ipython",
    "version": 3
   },
   "file_extension": ".py",
   "mimetype": "text/x-python",
   "name": "python",
   "nbconvert_exporter": "python",
   "pygments_lexer": "ipython3",
   "version": "3.7.3"
  }
 },
 "nbformat": 4,
 "nbformat_minor": 4
}
