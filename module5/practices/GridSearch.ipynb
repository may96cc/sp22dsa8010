{
 "cells": [
  {
   "cell_type": "markdown",
   "metadata": {},
   "source": [
    "# Grid Search Practice\n",
    "\n",
    "Grid search is a way of finding better hypermeters, those that define the configuration of the model and not altered by learning of the model.\n",
    "It is also known as Exhaustive Grid Search, because it takes many parameter options and creates a search space with cartesian product and then exhaust and evaluate all of these possibilities.\n",
    "In essence, it is a brute force algorithm.\n",
    "Let's get familiarize with its usage through practice.\n",
    "\n",
    "First, we prepare some data."
   ]
  },
  {
   "cell_type": "code",
   "execution_count": 2,
   "metadata": {},
   "outputs": [],
   "source": [
    "from time import time\n",
    "import os, itertools\n",
    "import matplotlib.pyplot as plt\n",
    "import pandas as pd\n",
    "\n",
    "from sklearn.model_selection import GridSearchCV\n",
    "from sklearn.svm import SVC\n",
    "\n",
    "DATASET = '/dsa/data/all_datasets/titanic_ML/titanic.csv'\n",
    "assert os.path.exists(DATASET)\n",
    "\n",
    "from sklearn.naive_bayes import GaussianNB\n",
    "from sklearn.svm import SVC\n",
    "from sklearn.model_selection import train_test_split\n",
    "\n",
    "dataset = pd.read_csv(DATASET).sample(frac = 1).reset_index(drop=True)\n",
    "X = dataset.iloc[:, :-1]\n",
    "y = dataset.survived\n",
    "\n",
    "import pandas as pd"
   ]
  },
  {
   "cell_type": "markdown",
   "metadata": {},
   "source": [
    "## Parameter Grid\n",
    "\n",
    "As a model selection approach, the grid search allows you to investigate the optimal choice of model parameters by specifying the variations for each parameter.\n",
    "\n",
    "For example, the SVC model has an error penalty parameter `C` in the model,\n",
    "and we can specify the parameter grid as a dictionary, with the name of the parameter in question, then define the variations of the parameter in a list:\n",
    "\n",
    "```python\n",
    "param_grid = {'C': [1e3, 1e4] }\n",
    "```\n",
    "\n",
    "The dictionary allows us to supply the variations for different parameters:\n",
    "\n",
    "```python\n",
    "param_grid = {'C': [1e3, 1e4],\n",
    "              'gamma': [1e-4, 1e-3], }\n",
    "```\n",
    "\n",
    "Conceptually, the parameter grid dictionary represents a cartesian product of the parameter variations, which contains all the configurations of the models that will be evaluated.  \n",
    "In other words, the above `param_grid` helps to set up the following 4 models to evaluate:\n",
    "\n",
    "```python\n",
    "SVC(C=1e3, gamma=1e-4, ...)\n",
    "SVC(C=1e3, gamma=1e-3, ...)\n",
    "SVC(C=1e4, gamma=1e-4, ...)\n",
    "SVC(C=1e4, gamma=1e-3, ...)\n",
    "```\n",
    "\n",
    "But sometimes this kind of cartesian product will generate too many models, more than desired.\n",
    "We can also provide multiply dictionaries as alternative options.\n",
    "\n",
    "Consider the difference between\n",
    "```python\n",
    "param_grid = [{'C': [1e3, 3e3],\n",
    "              'gamma': [1e-4, 1e-3], },\n",
    "             {'C': [5e2, 1e3],\n",
    "              'gamma': [5e-5, 1e-4], }]\n",
    "=> 2*2+2*2 = 8 models\n",
    "\n",
    "```\n",
    "\n",
    "and\n",
    "\n",
    "```python\n",
    "param_grid = [{'C': [1e3, 3e3, 5e2],\n",
    "              'gamma': [1e-4, 1e-3, 5e-5], }]\n",
    "=> 3*3 = 9 models\n",
    "```\n",
    "\n",
    "## Cross Validation\n",
    "\n",
    "Not only does the Grid Search help you set up various configurations of models, it also sets up cross validation to provide more objective evaluation metrics of these models. `cv` parameter is used to specify number of cross validation folds used for evaluation.\n",
    "\n",
    "## Practice\n",
    "\n",
    "With the parameter grid and cross validation, the grid search results in a lot of computation.\n",
    "However, we can leverage multiple processors available to accelerate the task, with `n_jobs` parameter, although be aware that in your Jupyter server learning environment, there may be resource limits to ensure fairness, i.e. you may not be able to use as many CPU cores as you can see, so we use a relatively low number in that parameter.\n",
    "\n",
    "Now let's practice GridSearchCV usage, create a GridSearchCV, **named `clf`**:\n",
    "\n",
    "1. Create at least 8 models with variations in `C`, `gamma` or your choice.\n",
    "2. Use 5 fold cross validation.\n",
    "3. Use 2 parallel jobs."
   ]
  },
  {
   "cell_type": "code",
   "execution_count": 3,
   "metadata": {},
   "outputs": [],
   "source": [
    "# Add your code for the above task here:   (Question #P001)\n",
    "# ----------------------------------------\n",
    "\n",
    "param_grid = [{'C': [1e3, 3e3],\n",
    "              'gamma': [1e-4, 1e-3], },\n",
    "             {'C': [5e2, 1e3],\n",
    "              'gamma': [5e-5, 1e-4], }]\n",
    "clf = GridSearchCV(SVC(kernel='rbf', class_weight='balanced'), param_grid, cv=5, n_jobs=2)"
   ]
  },
  {
   "cell_type": "markdown",
   "metadata": {},
   "source": [
    "Fit the model to loaded data `X` and `y`"
   ]
  },
  {
   "cell_type": "code",
   "execution_count": 4,
   "metadata": {},
   "outputs": [
    {
     "data": {
      "text/plain": [
       "GridSearchCV(cv=5, estimator=SVC(class_weight='balanced'), n_jobs=2,\n",
       "             param_grid=[{'C': [1000.0, 3000.0], 'gamma': [0.0001, 0.001]},\n",
       "                         {'C': [500.0, 1000.0], 'gamma': [5e-05, 0.0001]}])"
      ]
     },
     "execution_count": 4,
     "metadata": {},
     "output_type": "execute_result"
    }
   ],
   "source": [
    "# Add your code for the above task here:   (Question #P002)\n",
    "# ----------------------------------------\n",
    "\n",
    "\n",
    "clf.fit(X, y)\n",
    "\n"
   ]
  },
  {
   "cell_type": "code",
   "execution_count": 5,
   "metadata": {},
   "outputs": [
    {
     "data": {
      "text/plain": [
       "SVC(C=3000.0, class_weight='balanced', gamma=0.0001)"
      ]
     },
     "execution_count": 5,
     "metadata": {},
     "output_type": "execute_result"
    }
   ],
   "source": [
    "clf.best_estimator_"
   ]
  },
  {
   "cell_type": "markdown",
   "metadata": {},
   "source": [
    "The GridSearchCV creates an abstract classifier, once trained with cross validation, the returned object itself can be used as a classifier that represent the optimal classifier within the given hyperparameter space.\n",
    "For example, from the example above, `clf` will have many familiar methods like `.predict()`, `.score()`.\n",
    "\n",
    "In addition, `clf.best_estimator_` gives you access to the best model chosen; `clf.best_score_` stores the accuracy score for the best model as well; `clf.cv_results_` provides details on cross validation.\n"
   ]
  },
  {
   "cell_type": "code",
   "execution_count": 6,
   "metadata": {},
   "outputs": [
    {
     "data": {
      "text/plain": [
       "{'mean_fit_time': array([0.08720198, 0.17593098, 0.20091271, 0.47464433, 0.05518894,\n",
       "        0.06364155, 0.07202444, 0.08655066]),\n",
       " 'std_fit_time': array([0.02447042, 0.00562507, 0.01898928, 0.08204629, 0.01393411,\n",
       "        0.00457791, 0.01138344, 0.02433957]),\n",
       " 'mean_score_time': array([0.00618639, 0.00605459, 0.00603857, 0.00601635, 0.00665421,\n",
       "        0.00631347, 0.00640664, 0.00613055]),\n",
       " 'std_score_time': array([1.82422006e-04, 8.47071920e-05, 1.78202448e-04, 1.05679056e-04,\n",
       "        1.60708087e-04, 2.25067977e-04, 1.70533568e-04, 1.72164405e-04]),\n",
       " 'param_C': masked_array(data=[1000.0, 1000.0, 3000.0, 3000.0, 500.0, 500.0, 1000.0,\n",
       "                    1000.0],\n",
       "              mask=[False, False, False, False, False, False, False, False],\n",
       "        fill_value='?',\n",
       "             dtype=object),\n",
       " 'param_gamma': masked_array(data=[0.0001, 0.001, 0.0001, 0.001, 5e-05, 0.0001, 5e-05,\n",
       "                    0.0001],\n",
       "              mask=[False, False, False, False, False, False, False, False],\n",
       "        fill_value='?',\n",
       "             dtype=object),\n",
       " 'params': [{'C': 1000.0, 'gamma': 0.0001},\n",
       "  {'C': 1000.0, 'gamma': 0.001},\n",
       "  {'C': 3000.0, 'gamma': 0.0001},\n",
       "  {'C': 3000.0, 'gamma': 0.001},\n",
       "  {'C': 500.0, 'gamma': 5e-05},\n",
       "  {'C': 500.0, 'gamma': 0.0001},\n",
       "  {'C': 1000.0, 'gamma': 5e-05},\n",
       "  {'C': 1000.0, 'gamma': 0.0001}],\n",
       " 'split0_test_score': array([0.76966292, 0.76404494, 0.78089888, 0.75842697, 0.76966292,\n",
       "        0.76966292, 0.76404494, 0.76966292]),\n",
       " 'split1_test_score': array([0.73033708, 0.71348315, 0.73595506, 0.74719101, 0.71910112,\n",
       "        0.7247191 , 0.71348315, 0.73033708]),\n",
       " 'split2_test_score': array([0.7752809 , 0.76404494, 0.78651685, 0.74719101, 0.76404494,\n",
       "        0.76404494, 0.76404494, 0.7752809 ]),\n",
       " 'split3_test_score': array([0.79775281, 0.80898876, 0.80898876, 0.79775281, 0.79213483,\n",
       "        0.79213483, 0.79213483, 0.79775281]),\n",
       " 'split4_test_score': array([0.7752809 , 0.76966292, 0.78089888, 0.78089888, 0.7752809 ,\n",
       "        0.76404494, 0.76404494, 0.7752809 ]),\n",
       " 'mean_test_score': array([0.76966292, 0.76404494, 0.77865169, 0.76629213, 0.76404494,\n",
       "        0.76292135, 0.75955056, 0.76966292]),\n",
       " 'std_test_score': array([0.02190291, 0.03035788, 0.02372889, 0.01997347, 0.02435897,\n",
       "        0.0217293 , 0.02547367, 0.02190291]),\n",
       " 'rank_test_score': array([2, 6, 1, 4, 5, 7, 8, 2], dtype=int32)}"
      ]
     },
     "execution_count": 6,
     "metadata": {},
     "output_type": "execute_result"
    }
   ],
   "source": [
    "clf.cv_results_"
   ]
  },
  {
   "cell_type": "markdown",
   "metadata": {},
   "source": [
    "Now from `clf.cv_results_`, can you find where did the value of `clf.best_score_` come from?\n",
    "\n",
    "Copy-paste the key/value pair from `clf.cv_results_` that shows the source of `clf.best_score_` below:"
   ]
  },
  {
   "cell_type": "code",
   "execution_count": 7,
   "metadata": {},
   "outputs": [
    {
     "name": "stdout",
     "output_type": "stream",
     "text": [
      "0.7786516853932584\n"
     ]
    },
    {
     "data": {
      "text/plain": [
       "2    {'C': 3000.0, 'gamma': 0.0001}\n",
       "Name: params, dtype: object"
      ]
     },
     "execution_count": 7,
     "metadata": {},
     "output_type": "execute_result"
    }
   ],
   "source": [
    "# Enter your answer below   (Question #P003)\n",
    "# ----------------------------------------\n",
    "\n",
    "print(clf.best_score_)\n",
    "\n",
    "df = pd.DataFrame(clf.cv_results_)\n",
    "\n",
    "best = df[df['rank_test_score'] == 1]\n",
    "\n",
    "best.params\n",
    "##{'C': 3000.0, 'gamma': 0.0001}\n",
    "\n"
   ]
  },
  {
   "cell_type": "markdown",
   "metadata": {},
   "source": [
    "Which was the fastest model to train? What were the parameters to the fastest model?"
   ]
  },
  {
   "cell_type": "code",
   "execution_count": 8,
   "metadata": {},
   "outputs": [
    {
     "data": {
      "text/html": [
       "<div>\n",
       "<style scoped>\n",
       "    .dataframe tbody tr th:only-of-type {\n",
       "        vertical-align: middle;\n",
       "    }\n",
       "\n",
       "    .dataframe tbody tr th {\n",
       "        vertical-align: top;\n",
       "    }\n",
       "\n",
       "    .dataframe thead th {\n",
       "        text-align: right;\n",
       "    }\n",
       "</style>\n",
       "<table border=\"1\" class=\"dataframe\">\n",
       "  <thead>\n",
       "    <tr style=\"text-align: right;\">\n",
       "      <th></th>\n",
       "      <th>mean_fit_time</th>\n",
       "      <th>std_fit_time</th>\n",
       "      <th>mean_score_time</th>\n",
       "      <th>std_score_time</th>\n",
       "      <th>param_C</th>\n",
       "      <th>param_gamma</th>\n",
       "      <th>params</th>\n",
       "      <th>split0_test_score</th>\n",
       "      <th>split1_test_score</th>\n",
       "      <th>split2_test_score</th>\n",
       "      <th>split3_test_score</th>\n",
       "      <th>split4_test_score</th>\n",
       "      <th>mean_test_score</th>\n",
       "      <th>std_test_score</th>\n",
       "      <th>rank_test_score</th>\n",
       "    </tr>\n",
       "  </thead>\n",
       "  <tbody>\n",
       "    <tr>\n",
       "      <th>0</th>\n",
       "      <td>0.087202</td>\n",
       "      <td>0.024470</td>\n",
       "      <td>0.006186</td>\n",
       "      <td>0.000182</td>\n",
       "      <td>1000.0</td>\n",
       "      <td>0.0001</td>\n",
       "      <td>{'C': 1000.0, 'gamma': 0.0001}</td>\n",
       "      <td>0.769663</td>\n",
       "      <td>0.730337</td>\n",
       "      <td>0.775281</td>\n",
       "      <td>0.797753</td>\n",
       "      <td>0.775281</td>\n",
       "      <td>0.769663</td>\n",
       "      <td>0.021903</td>\n",
       "      <td>2</td>\n",
       "    </tr>\n",
       "    <tr>\n",
       "      <th>1</th>\n",
       "      <td>0.175931</td>\n",
       "      <td>0.005625</td>\n",
       "      <td>0.006055</td>\n",
       "      <td>0.000085</td>\n",
       "      <td>1000.0</td>\n",
       "      <td>0.001</td>\n",
       "      <td>{'C': 1000.0, 'gamma': 0.001}</td>\n",
       "      <td>0.764045</td>\n",
       "      <td>0.713483</td>\n",
       "      <td>0.764045</td>\n",
       "      <td>0.808989</td>\n",
       "      <td>0.769663</td>\n",
       "      <td>0.764045</td>\n",
       "      <td>0.030358</td>\n",
       "      <td>6</td>\n",
       "    </tr>\n",
       "    <tr>\n",
       "      <th>2</th>\n",
       "      <td>0.200913</td>\n",
       "      <td>0.018989</td>\n",
       "      <td>0.006039</td>\n",
       "      <td>0.000178</td>\n",
       "      <td>3000.0</td>\n",
       "      <td>0.0001</td>\n",
       "      <td>{'C': 3000.0, 'gamma': 0.0001}</td>\n",
       "      <td>0.780899</td>\n",
       "      <td>0.735955</td>\n",
       "      <td>0.786517</td>\n",
       "      <td>0.808989</td>\n",
       "      <td>0.780899</td>\n",
       "      <td>0.778652</td>\n",
       "      <td>0.023729</td>\n",
       "      <td>1</td>\n",
       "    </tr>\n",
       "    <tr>\n",
       "      <th>3</th>\n",
       "      <td>0.474644</td>\n",
       "      <td>0.082046</td>\n",
       "      <td>0.006016</td>\n",
       "      <td>0.000106</td>\n",
       "      <td>3000.0</td>\n",
       "      <td>0.001</td>\n",
       "      <td>{'C': 3000.0, 'gamma': 0.001}</td>\n",
       "      <td>0.758427</td>\n",
       "      <td>0.747191</td>\n",
       "      <td>0.747191</td>\n",
       "      <td>0.797753</td>\n",
       "      <td>0.780899</td>\n",
       "      <td>0.766292</td>\n",
       "      <td>0.019973</td>\n",
       "      <td>4</td>\n",
       "    </tr>\n",
       "    <tr>\n",
       "      <th>4</th>\n",
       "      <td>0.055189</td>\n",
       "      <td>0.013934</td>\n",
       "      <td>0.006654</td>\n",
       "      <td>0.000161</td>\n",
       "      <td>500.0</td>\n",
       "      <td>0.00005</td>\n",
       "      <td>{'C': 500.0, 'gamma': 5e-05}</td>\n",
       "      <td>0.769663</td>\n",
       "      <td>0.719101</td>\n",
       "      <td>0.764045</td>\n",
       "      <td>0.792135</td>\n",
       "      <td>0.775281</td>\n",
       "      <td>0.764045</td>\n",
       "      <td>0.024359</td>\n",
       "      <td>5</td>\n",
       "    </tr>\n",
       "    <tr>\n",
       "      <th>5</th>\n",
       "      <td>0.063642</td>\n",
       "      <td>0.004578</td>\n",
       "      <td>0.006313</td>\n",
       "      <td>0.000225</td>\n",
       "      <td>500.0</td>\n",
       "      <td>0.0001</td>\n",
       "      <td>{'C': 500.0, 'gamma': 0.0001}</td>\n",
       "      <td>0.769663</td>\n",
       "      <td>0.724719</td>\n",
       "      <td>0.764045</td>\n",
       "      <td>0.792135</td>\n",
       "      <td>0.764045</td>\n",
       "      <td>0.762921</td>\n",
       "      <td>0.021729</td>\n",
       "      <td>7</td>\n",
       "    </tr>\n",
       "    <tr>\n",
       "      <th>6</th>\n",
       "      <td>0.072024</td>\n",
       "      <td>0.011383</td>\n",
       "      <td>0.006407</td>\n",
       "      <td>0.000171</td>\n",
       "      <td>1000.0</td>\n",
       "      <td>0.00005</td>\n",
       "      <td>{'C': 1000.0, 'gamma': 5e-05}</td>\n",
       "      <td>0.764045</td>\n",
       "      <td>0.713483</td>\n",
       "      <td>0.764045</td>\n",
       "      <td>0.792135</td>\n",
       "      <td>0.764045</td>\n",
       "      <td>0.759551</td>\n",
       "      <td>0.025474</td>\n",
       "      <td>8</td>\n",
       "    </tr>\n",
       "    <tr>\n",
       "      <th>7</th>\n",
       "      <td>0.086551</td>\n",
       "      <td>0.024340</td>\n",
       "      <td>0.006131</td>\n",
       "      <td>0.000172</td>\n",
       "      <td>1000.0</td>\n",
       "      <td>0.0001</td>\n",
       "      <td>{'C': 1000.0, 'gamma': 0.0001}</td>\n",
       "      <td>0.769663</td>\n",
       "      <td>0.730337</td>\n",
       "      <td>0.775281</td>\n",
       "      <td>0.797753</td>\n",
       "      <td>0.775281</td>\n",
       "      <td>0.769663</td>\n",
       "      <td>0.021903</td>\n",
       "      <td>2</td>\n",
       "    </tr>\n",
       "  </tbody>\n",
       "</table>\n",
       "</div>"
      ],
      "text/plain": [
       "   mean_fit_time  std_fit_time  mean_score_time  std_score_time param_C  \\\n",
       "0       0.087202      0.024470         0.006186        0.000182  1000.0   \n",
       "1       0.175931      0.005625         0.006055        0.000085  1000.0   \n",
       "2       0.200913      0.018989         0.006039        0.000178  3000.0   \n",
       "3       0.474644      0.082046         0.006016        0.000106  3000.0   \n",
       "4       0.055189      0.013934         0.006654        0.000161   500.0   \n",
       "5       0.063642      0.004578         0.006313        0.000225   500.0   \n",
       "6       0.072024      0.011383         0.006407        0.000171  1000.0   \n",
       "7       0.086551      0.024340         0.006131        0.000172  1000.0   \n",
       "\n",
       "  param_gamma                          params  split0_test_score  \\\n",
       "0      0.0001  {'C': 1000.0, 'gamma': 0.0001}           0.769663   \n",
       "1       0.001   {'C': 1000.0, 'gamma': 0.001}           0.764045   \n",
       "2      0.0001  {'C': 3000.0, 'gamma': 0.0001}           0.780899   \n",
       "3       0.001   {'C': 3000.0, 'gamma': 0.001}           0.758427   \n",
       "4     0.00005    {'C': 500.0, 'gamma': 5e-05}           0.769663   \n",
       "5      0.0001   {'C': 500.0, 'gamma': 0.0001}           0.769663   \n",
       "6     0.00005   {'C': 1000.0, 'gamma': 5e-05}           0.764045   \n",
       "7      0.0001  {'C': 1000.0, 'gamma': 0.0001}           0.769663   \n",
       "\n",
       "   split1_test_score  split2_test_score  split3_test_score  split4_test_score  \\\n",
       "0           0.730337           0.775281           0.797753           0.775281   \n",
       "1           0.713483           0.764045           0.808989           0.769663   \n",
       "2           0.735955           0.786517           0.808989           0.780899   \n",
       "3           0.747191           0.747191           0.797753           0.780899   \n",
       "4           0.719101           0.764045           0.792135           0.775281   \n",
       "5           0.724719           0.764045           0.792135           0.764045   \n",
       "6           0.713483           0.764045           0.792135           0.764045   \n",
       "7           0.730337           0.775281           0.797753           0.775281   \n",
       "\n",
       "   mean_test_score  std_test_score  rank_test_score  \n",
       "0         0.769663        0.021903                2  \n",
       "1         0.764045        0.030358                6  \n",
       "2         0.778652        0.023729                1  \n",
       "3         0.766292        0.019973                4  \n",
       "4         0.764045        0.024359                5  \n",
       "5         0.762921        0.021729                7  \n",
       "6         0.759551        0.025474                8  \n",
       "7         0.769663        0.021903                2  "
      ]
     },
     "execution_count": 8,
     "metadata": {},
     "output_type": "execute_result"
    }
   ],
   "source": [
    "# Enter your answer below   (Question #P004)\n",
    "# ----------------------------------------\n",
    "\n",
    "df.mean_fit_time.min()\n",
    "\n",
    "\n",
    "df\n",
    "##{'C': 500.0, 'gamma': 5e-05}"
   ]
  },
  {
   "cell_type": "markdown",
   "metadata": {},
   "source": [
    "Run a prediction on the first 5 data samples from `X`."
   ]
  },
  {
   "cell_type": "code",
   "execution_count": 9,
   "metadata": {},
   "outputs": [
    {
     "data": {
      "text/plain": [
       "array([0, 0, 1, 0, 0])"
      ]
     },
     "execution_count": 9,
     "metadata": {},
     "output_type": "execute_result"
    }
   ],
   "source": [
    "# Enter your answer below   (Question #P005)\n",
    "# ----------------------------------------\n",
    "\n",
    "\n",
    "clf.predict(X[:5])\n",
    "\n",
    "\n"
   ]
  },
  {
   "cell_type": "code",
   "execution_count": null,
   "metadata": {},
   "outputs": [],
   "source": []
  }
 ],
 "metadata": {
  "kernelspec": {
   "display_name": "Python 3",
   "language": "python",
   "name": "python3"
  },
  "language_info": {
   "codemirror_mode": {
    "name": "ipython",
    "version": 3
   },
   "file_extension": ".py",
   "mimetype": "text/x-python",
   "name": "python",
   "nbconvert_exporter": "python",
   "pygments_lexer": "ipython3",
   "version": "3.7.3"
  }
 },
 "nbformat": 4,
 "nbformat_minor": 4
}
