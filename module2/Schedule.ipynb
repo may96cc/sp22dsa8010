{
 "cells": [
  {
   "cell_type": "markdown",
   "metadata": {},
   "source": [
    "# 2 \n",
    "# Supervised Learning: Classification & Regression"
   ]
  },
  {
   "cell_type": "markdown",
   "metadata": {},
   "source": [
    "## Module Topics\n",
    "### Machine Learning Overview\n",
    "  * Cross-Validation\n",
    "  * Supervised Learning: Classification\n",
    "    - Naive Bayes\n",
    "    - Logistic Regression\n",
    "  * Supervised Learning: Regression\n",
    "    - Linear Regression\n",
    "  \n"
   ]
  },
  {
   "cell_type": "markdown",
   "metadata": {},
   "source": [
    "## Readings\n",
    "\n",
    "* Feature Scaling [[slides](./slides/feature-scaling.pdf)]\n",
    "    + [When to perform a Feature Scaling?](https://www.atoti.io/articles/when-to-perform-a-feature-scaling/) [A must-read]\n",
    "    + [sklearn preprocessing](https://scikit-learn.org/stable/modules/preprocessing.html)\n",
    "* Overfitting + Model Selection with Cross Validation [[slides](./slides/model-selection-cross-validation.pdf)]\n",
    "    + [[video](https://www.youtube.com/watch?v=h6tYzGrFMRM)]\n",
    "    + http://scikit-learn.org/stable/modules/cross_validation.html\n",
    "    + [Cross-Validation as a practicioner](https://robjhyndman.com/hyndsight/crossvalidation/)\n",
    "    + [Ch 3.4 (Model Overfitting) + Ch 3.5 (Model Selection)](https://www-users.cse.umn.edu/~kumar001/dmbook/ch3_classification.pdf)\n",
    "* Classification:\n",
    "    * Naïve Bayes classifiers [[slides](./slides/naive-bayes.pdf)]\n",
    "    * [Video: Naive Bayes, Clearly Explained!](https://www.youtube.com/watch?v=O2L2Uv9pdDA)\n",
    "    * [Video: Gaussian Naive Bayes, Clearly Explained!](https://www.youtube.com/watch?v=H3EjCKtlVog)\n",
    "* Regression: \n",
    "    * Linear + Ridge + Logistic Regression [[slides](./slides/regression-overview.pdf)]\n",
    "    * [Video: Logistic Regression](https://www.youtube.com/watch?v=yIYKR4sgzI8&list=PLblh5JKOoLUKxzEP5HA2d-Li7IJkHfXSe&index=2&t=59s)\n",
    "    * [Video: Ridge Regression](https://www.youtube.com/watch?v=Q81RR3yKn30&t=135s)\n",
    "* ML workflow \n",
    "    * [[video](https://www.youtube.com/watch?v=UUb3rlmk9Wg)]\n",
    "    * [Someone asked the right question!](https://www.quora.com/How-does-one-operationalize-a-machine-learning-ranking-system-from-an-organization-and-an-engineering-management-point-of-view-How-do-organizations-make-sure-that-theyre-running-smoothly-and-improving-How-are-goals-defined-and-by-whom) Please read the response to the post by **_Brandon Ballinger, applied ML to fraud, speech recognition, and ads_**\n",
    "    * [A \"Kaggle Grand Master\" take on the ML workflow](https://www.linkedin.com/pulse/approaching-almost-any-machine-learning-problem-abhishek-thakur/) (He wrote a book on this [book](./resources/AAAMLP.pdf))\n",
    "\n",
    " "
   ]
  },
  {
   "cell_type": "markdown",
   "metadata": {},
   "source": [
    "## Labs\n",
    "\n",
    "The goal of the labs this module are to refresh you on some basic machine learning you have seen before.\n",
    "The labs are using the Python Scikit-Learn package and some simple ML examples.\n",
    "\n",
    "* [Data Processing: Standardiation and normalization](./labs/Preprocessing.ipynb)\n",
    "* Model Selection \n",
    "  * [Cross-Validation](./labs/CrossValidation.ipynb)\n",
    "  * [Train Validate Test](./labs/TrainValidateTest.ipynb)\n",
    "* Classifications\n",
    "  * [Naive Bayes Classifier & Logistic Regression](./labs/NBC-and-Logit.ipynb)\n",
    "* Regression\n",
    "  * [Regression Baselines](./labs/Baseline-Regressor.ipynb)\n",
    "  * [Linear Regression & Ridge Regression](./labs/Linear-and-Ridge-Regression.ipynb)"
   ]
  },
  {
   "cell_type": "markdown",
   "metadata": {},
   "source": [
    "## Practices\n",
    "\n",
    "  * [Cross-Validation](./practices/CrossValidation.ipynb) \n",
    "      * [Sol](./answers-practices/Sol-CrossValidation.ipynb)\n",
    "  * [Train-Validate-Test](./practices/TrainValidateTest.ipynb)\n",
    "      * [Sol](./answers-practices/Sol-TrainTestValidate.ipynb)\n"
   ]
  },
  {
   "cell_type": "markdown",
   "metadata": {},
   "source": [
    "## Exercises\n",
    "\n",
    "  * [ML Training and Validation and Testing](./exercises/TrainValTrainTest.ipynb)\n"
   ]
  },
  {
   "cell_type": "markdown",
   "metadata": {},
   "source": [
    "## Submitting your work\n",
    "\n",
    "#### Steps:\n",
    "  1. Open Terminal in JupyterHub\n",
    "  1. Change into the course folder\n",
    "  1. Stage (Git Add) the module's practive and exercise work   \n",
    "  `git  add   module2/practices    module2/exercises`\n",
    "  1. Create your work snapshot (Git Commit)  \n",
    "  `git   commit   -m   \"Module 2 submission\"`\n",
    "  1. Upload the snapshot to the server (Git Push)  \n",
    "  `git   push`\n"
   ]
  },
  {
   "cell_type": "markdown",
   "metadata": {},
   "source": [
    "## Congratulations, you have completed the learning activities for this module!"
   ]
  }
 ],
 "metadata": {
  "kernelspec": {
   "display_name": "Python 3",
   "language": "python",
   "name": "python3"
  },
  "language_info": {
   "codemirror_mode": {
    "name": "ipython",
    "version": 3
   },
   "file_extension": ".py",
   "mimetype": "text/x-python",
   "name": "python",
   "nbconvert_exporter": "python",
   "pygments_lexer": "ipython3",
   "version": "3.7.3"
  }
 },
 "nbformat": 4,
 "nbformat_minor": 4
}
