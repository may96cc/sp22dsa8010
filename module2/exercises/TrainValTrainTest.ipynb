{
 "cells": [
  {
   "cell_type": "markdown",
   "metadata": {},
   "source": [
    "# Train, Validate $\\rightarrow$ Train, Test\n",
    "\n",
    "In this exercise, you will perform empirical comparison of the results of a ten-fold cross validated model with a fully trained model.\n",
    "\n",
    "## Notes and Guidelines\n",
    "* Read a dataset from disk and use it for a classification task.\n",
    "* Construct a Gaussian Naive Bayes classifier and fit it to the phoneme dataset provided.\n",
    "* Save and re-load a trained classifier.\n",
    "* Compare K-fold cross-validation scores with the success rate of a fully-trained model.\n",
    "\n",
    "\n",
    "### Dataset\n",
    "* Dataset acquired from [KEEL](http://sci2s.ugr.es/keel/dataset.php?cod=105), an excellent resource for finding 'toy' datasets (and a few more serious ones).\n",
    "    * A description of the dataset is provided at the above link - **read it.**\n",
    "    * Excerpt: \n",
    "    *The aim of this dataset is to distinguish between nasal (class 0) and oral sounds (class 1).\n",
    "    The class distribution is 3,818 samples in class 0 and 1,586 samples in class 1.\n",
    "    The phonemes are transcribed as follows: sh as in she, dcl as in dark, iy as the vowel in she, aa as the vowel in dark, and ao as the first vowel in water.*\n",
    "    \n",
    "* It is not necessary to fully understand the nature or context of the values in the dataset - only that there are five columns of input (featural) data and one column of output (class) data."
   ]
  },
  {
   "cell_type": "markdown",
   "metadata": {},
   "source": [
    "## Handling imports and dataset inclusion"
   ]
  },
  {
   "cell_type": "code",
   "execution_count": 1,
   "metadata": {},
   "outputs": [],
   "source": [
    "import os\n",
    "import pandas as pd\n",
    "import numpy as np\n",
    "\n",
    "import matplotlib.pyplot as plt\n",
    "from sklearn.datasets import load_digits\n",
    "from sklearn.naive_bayes import GaussianNB\n",
    "from sklearn.model_selection import train_test_split, cross_val_score\n",
    "from collections import OrderedDict\n",
    "from sklearn.metrics import classification_report\n",
    "import sklearn.model_selection\n",
    "from sklearn.metrics import accuracy_score\n",
    "# <import necessary modules> \n",
    "\n",
    "# locate dataset\n",
    "DATASET = '/dsa/data/all_datasets/phoneme.csv'  # phoneme classification dataset\n",
    "assert os.path.exists(DATASET)  # check if the file actually exists"
   ]
  },
  {
   "cell_type": "markdown",
   "metadata": {},
   "source": [
    "## Constructing DataFrame from raw dataset\n",
    "\n",
    "<span style=\"background:yellow\">**Note**</span>: Variable `dataset` should be used for the dataframe."
   ]
  },
  {
   "cell_type": "code",
   "execution_count": 33,
   "metadata": {},
   "outputs": [
    {
     "name": "stdout",
     "output_type": "stream",
     "text": [
      "Dataset shape:  (5404, 6)\n"
     ]
    }
   ],
   "source": [
    "\n",
    "dataset = pd.read_csv(DATASET, header=0).sample(frac=1)\n",
    "\n",
    "# verify dataset shape\n",
    "print(\"Dataset shape: \", dataset.shape)"
   ]
  },
  {
   "cell_type": "code",
   "execution_count": 34,
   "metadata": {},
   "outputs": [
    {
     "data": {
      "text/html": [
       "<div>\n",
       "<style scoped>\n",
       "    .dataframe tbody tr th:only-of-type {\n",
       "        vertical-align: middle;\n",
       "    }\n",
       "\n",
       "    .dataframe tbody tr th {\n",
       "        vertical-align: top;\n",
       "    }\n",
       "\n",
       "    .dataframe thead th {\n",
       "        text-align: right;\n",
       "    }\n",
       "</style>\n",
       "<table border=\"1\" class=\"dataframe\">\n",
       "  <thead>\n",
       "    <tr style=\"text-align: right;\">\n",
       "      <th></th>\n",
       "      <th>Aa</th>\n",
       "      <th>Ao</th>\n",
       "      <th>Dcl</th>\n",
       "      <th>Iy</th>\n",
       "      <th>Sh</th>\n",
       "      <th>Class</th>\n",
       "    </tr>\n",
       "  </thead>\n",
       "  <tbody>\n",
       "    <tr>\n",
       "      <th>4281</th>\n",
       "      <td>0.873</td>\n",
       "      <td>2.740</td>\n",
       "      <td>0.827</td>\n",
       "      <td>-0.275</td>\n",
       "      <td>-0.149</td>\n",
       "      <td>0</td>\n",
       "    </tr>\n",
       "    <tr>\n",
       "      <th>826</th>\n",
       "      <td>0.840</td>\n",
       "      <td>2.230</td>\n",
       "      <td>1.577</td>\n",
       "      <td>-0.333</td>\n",
       "      <td>-0.157</td>\n",
       "      <td>1</td>\n",
       "    </tr>\n",
       "    <tr>\n",
       "      <th>572</th>\n",
       "      <td>1.098</td>\n",
       "      <td>2.692</td>\n",
       "      <td>0.812</td>\n",
       "      <td>0.348</td>\n",
       "      <td>0.000</td>\n",
       "      <td>0</td>\n",
       "    </tr>\n",
       "    <tr>\n",
       "      <th>4290</th>\n",
       "      <td>0.593</td>\n",
       "      <td>2.737</td>\n",
       "      <td>0.856</td>\n",
       "      <td>-0.336</td>\n",
       "      <td>1.173</td>\n",
       "      <td>0</td>\n",
       "    </tr>\n",
       "    <tr>\n",
       "      <th>4666</th>\n",
       "      <td>0.431</td>\n",
       "      <td>0.803</td>\n",
       "      <td>1.946</td>\n",
       "      <td>-0.764</td>\n",
       "      <td>0.523</td>\n",
       "      <td>1</td>\n",
       "    </tr>\n",
       "  </tbody>\n",
       "</table>\n",
       "</div>"
      ],
      "text/plain": [
       "         Aa     Ao    Dcl     Iy     Sh  Class\n",
       "4281  0.873  2.740  0.827 -0.275 -0.149      0\n",
       "826   0.840  2.230  1.577 -0.333 -0.157      1\n",
       "572   1.098  2.692  0.812  0.348  0.000      0\n",
       "4290  0.593  2.737  0.856 -0.336  1.173      0\n",
       "4666  0.431  0.803  1.946 -0.764  0.523      1"
      ]
     },
     "execution_count": 34,
     "metadata": {},
     "output_type": "execute_result"
    }
   ],
   "source": [
    "# show first few lines of the dataset\n",
    "dataset.head()"
   ]
  },
  {
   "cell_type": "markdown",
   "metadata": {},
   "source": [
    "## Splitting data into training and test sets\n",
    "\n",
    "Split the datasets into training (80%) and testing (20%) sets. \n",
    "\n",
    "The below is only necessary if you are interested in visualizing\n",
    "the data or providing neatly-labeled output within the program.\n",
    "\n",
    "```python\n",
    "# extract labels from column headers\n",
    "phonemes = dataset.columns[0:5].tolist()  # Feature labels\n",
    "labels = {0: 'Nasal', 1: 'Oral'}  # Class labels\n",
    "```"
   ]
  },
  {
   "cell_type": "code",
   "execution_count": 35,
   "metadata": {},
   "outputs": [],
   "source": [
    "# extract features and class data from primary data frame\n",
    "X = dataset.iloc[:,:-1]\n",
    "y = dataset.Class \n"
   ]
  },
  {
   "cell_type": "code",
   "execution_count": 36,
   "metadata": {},
   "outputs": [
    {
     "name": "stdout",
     "output_type": "stream",
     "text": [
      "Training shapes (X, y):  (4323, 5) (4323,)\n",
      "Testing shapes (X, y):  (1081, 5) (1081,)\n"
     ]
    }
   ],
   "source": [
    "# split data into training and test sets\n",
    "X_train, X_test, y_train, y_test = train_test_split(X, y, test_size=0.20)\n",
    "print(\"Training shapes (X, y): \", X_train.shape, y_train.shape)\n",
    "print(\"Testing shapes (X, y): \", X_test.shape, y_test.shape)"
   ]
  },
  {
   "cell_type": "markdown",
   "metadata": {},
   "source": [
    "## Constructing the classifier and running automated cross-validation\n",
    "\n",
    "* Run a 10-fold cross validation with `GaussianNB` classifier\n",
    "* Print the accuracy scores for these 10 folds"
   ]
  },
  {
   "cell_type": "code",
   "execution_count": 37,
   "metadata": {},
   "outputs": [
    {
     "name": "stdout",
     "output_type": "stream",
     "text": [
      "[0.73567468 0.74676525 0.7689464  0.77264325 0.76666667 0.77962963\n",
      " 0.76296296 0.75555556 0.73518519 0.78703704]\n"
     ]
    }
   ],
   "source": [
    "# Your code below this line (Question #E101)\n",
    "# --------------------------\n",
    "\n",
    "classifier = GaussianNB()\n",
    "\n",
    "cv_scores = sklearn.model_selection.cross_val_score(classifier, X, y, cv=10) \n",
    "print(cv_scores)\n"
   ]
  },
  {
   "cell_type": "markdown",
   "metadata": {},
   "source": [
    "## Training the classifier and pickling to disk\n",
    "* Learn the model with all the training instances and store to disk"
   ]
  },
  {
   "cell_type": "code",
   "execution_count": 38,
   "metadata": {},
   "outputs": [
    {
     "data": {
      "text/plain": [
       "['GaussianDigitsExercise.pkl']"
      ]
     },
     "execution_count": 38,
     "metadata": {},
     "output_type": "execute_result"
    }
   ],
   "source": [
    "# Your code below this line (Question #E102)\n",
    "# --------------------------\n",
    "classifier.fit(X_train, y_train)\n",
    "\n",
    "import joblib\n",
    "joblib.dump(classifier, 'GaussianDigitsExercise.pkl')\n"
   ]
  },
  {
   "cell_type": "markdown",
   "metadata": {},
   "source": [
    "## Unpickling the model and making predictions\n",
    "\n",
    "* Load the saved model \n",
    "* Make predictions for the testing set\n"
   ]
  },
  {
   "cell_type": "code",
   "execution_count": 39,
   "metadata": {},
   "outputs": [
    {
     "name": "stdout",
     "output_type": "stream",
     "text": [
      "Input vs. output shape:\n",
      "(1081, 5) (1081,)\n"
     ]
    }
   ],
   "source": [
    "# Your code below this line (Question #E103)\n",
    "# --------------------------\n",
    "\n",
    "# load pickled model\n",
    "loaded_model = joblib.load('GaussianDigitsExercise.pkl')\n",
    "\n",
    "# make predictions with freshly loaded model\n",
    "y_pred = loaded_model.predict(X_test)\n",
    "\n",
    "# verify input and output shape are appropriate\n",
    "print(\"Input vs. output shape:\")\n",
    "print(X_test.shape, y_pred.shape)\n",
    "\n",
    "\n"
   ]
  },
  {
   "cell_type": "markdown",
   "metadata": {},
   "source": [
    "## Performing final performance comparison"
   ]
  },
  {
   "cell_type": "code",
   "execution_count": 40,
   "metadata": {},
   "outputs": [
    {
     "name": "stdout",
     "output_type": "stream",
     "text": [
      "Correct guesses: 810\n",
      "Incorrect guesses: 271\n",
      "Percent correct: 74.93061979648473\n",
      "Percent cross-validation score (10 folds, average): 76.11066611898406\n"
     ]
    }
   ],
   "source": [
    "# tally up right + wrong 'guesses' by model\n",
    "true, false = 0, 0\n",
    "for i, j in zip(y_test, y_pred):\n",
    "    # print(i, j)\n",
    "    if i == j:\n",
    "        true += 1\n",
    "    else:\n",
    "        false += 1\n",
    "\n",
    "# report results numerically and by percentage\n",
    "true_percent = true / (true + false) * 100\n",
    "print(\"Correct guesses: \" + str(true) + \"\\nIncorrect guesses: \" + str(false))\n",
    "print(\"Percent correct: \" + str(true_percent))\n",
    "\n",
    "# compare to average of cross-validation scores\n",
    "avg_cv = np.sum(cv_scores) / len(cv_scores) * 100\n",
    "print(\"Percent cross-validation score (10 folds, average): \" + str(avg_cv))"
   ]
  },
  {
   "cell_type": "markdown",
   "metadata": {},
   "source": [
    "## Measure performance using Scikit Learn modules \n",
    "\n",
    "Compute and display the following:\n",
    " 1. Compute Confusion Matrix\n",
    " 1. Accuracy\n",
    " 1. Precision\n",
    " 1. Recall\n",
    " 1. $F_1$-Score\n",
    " \n",
    "Add additional cells if required. "
   ]
  },
  {
   "cell_type": "code",
   "execution_count": 41,
   "metadata": {},
   "outputs": [
    {
     "name": "stdout",
     "output_type": "stream",
     "text": [
      "[[573 178]\n",
      " [ 93 237]]\n",
      "Accuracy: 0.75\n",
      "Precision: 0.77\n",
      "Recall: 0.77\n",
      "F1-Score: 0.76\n"
     ]
    }
   ],
   "source": [
    "# Your code below this line  (Question #E104)\n",
    "# --------------------------\n",
    "from sklearn.metrics import confusion_matrix\n",
    "print(confusion_matrix(y_test, y_pred))\n",
    "\n",
    "from sklearn.metrics import f1_score, precision_score, recall_score, accuracy_score\n",
    "print(\"Accuracy:\", np.round(accuracy_score(y_test, y_pred), 2))\n",
    "print(\"Precision:\", np.round(precision_score(y_test, y_pred, average='weighted'), 2))\n",
    "print(\"Recall:\", np.round(precision_score(y_test, y_pred, average='weighted'), 2))\n",
    "print(\"F1-Score:\", np.round(f1_score(y_test, y_pred, average='weighted'), 2))"
   ]
  },
  {
   "cell_type": "markdown",
   "metadata": {},
   "source": [
    "## Conclusions ?\n",
    "\n",
    "How did your trained model perform relative to your expectations based on the cross-validation?\n",
    "Provide your answer in the cell below."
   ]
  },
  {
   "cell_type": "markdown",
   "metadata": {},
   "source": [
    "# Add your answer below this comment  (Question #E105)\n",
    "# -----------------------------------\n",
    "\n",
    "My model was slightly less accurate (~1%) than what was predicted via the 10 fold cross-validation. The goal of cross validation is to test the models accuracy on unseen data. Thus, when doing a ten fold like we performed, fitting is completed 10 times, each consisting of 90% of training data used for training, and 10% of training data to be used for validation\n",
    "\n",
    "\n",
    "\n"
   ]
  },
  {
   "cell_type": "markdown",
   "metadata": {},
   "source": [
    "# Save your notebook!  Then `File > Close and Halt`"
   ]
  }
 ],
 "metadata": {
  "kernelspec": {
   "display_name": "Python 3",
   "language": "python",
   "name": "python3"
  },
  "language_info": {
   "codemirror_mode": {
    "name": "ipython",
    "version": 3
   },
   "file_extension": ".py",
   "mimetype": "text/x-python",
   "name": "python",
   "nbconvert_exporter": "python",
   "pygments_lexer": "ipython3",
   "version": "3.7.3"
  }
 },
 "nbformat": 4,
 "nbformat_minor": 4
}
