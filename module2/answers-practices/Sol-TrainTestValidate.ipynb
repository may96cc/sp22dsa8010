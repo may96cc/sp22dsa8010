{
 "cells": [
  {
   "cell_type": "markdown",
   "metadata": {},
   "source": [
    "# Practice: Train, Validate --> Train, Test\n",
    "In this practice you will revisit the cross-validation process to evaluate and then fully train a classification model on the (**ANYTHING OTHER THAN IRIS**) dataset using the `GaussianNB` classifier.\n",
    "\n",
    "* Split the data into training and test sets\n",
    "* Using the training set perform cross validation\n",
    "* Evaluate the model on the test set\n",
    "\n",
    "## Required resources and imports"
   ]
  },
  {
   "cell_type": "code",
   "execution_count": null,
   "metadata": {},
   "outputs": [],
   "source": [
    "# Add your code below this comment (Question #P2101)\n",
    "# ----------------------------------\n",
    "# note: you will need a few other things here - come back and import them later\n",
    "import numpy as np\n",
    "import matplotlib.pyplot as plt\n",
    "from sklearn.datasets import load_digits\n",
    "from sklearn.model_selection import train_test_split, cross_val_score\n",
    "from sklearn.naive_bayes import GaussianNB\n",
    "from collections import OrderedDict\n",
    "from sklearn.metrics import classification_report"
   ]
  },
  {
   "cell_type": "markdown",
   "metadata": {},
   "source": [
    "## Model construction"
   ]
  },
  {
   "cell_type": "code",
   "execution_count": null,
   "metadata": {},
   "outputs": [],
   "source": [
    "# Add your code below this comment (Question #P2102)\n",
    "# ----------------------------------\n",
    "# load dataset (we're working with the digits dataset)\n",
    "raw = load_digits()\n",
    "help(load_digits)"
   ]
  },
  {
   "cell_type": "code",
   "execution_count": null,
   "metadata": {},
   "outputs": [],
   "source": [
    "# TODO: split raw into X and Y sets\n",
    "X = raw.data\n",
    "y = raw.target\n"
   ]
  },
  {
   "cell_type": "code",
   "execution_count": null,
   "metadata": {},
   "outputs": [],
   "source": [
    "# TODO: perform a validation split, reserving 30% of the data for testing\n",
    "X_train, X_test, y_train, y_test = train_test_split(X, y, test_size=0.3)\n"
   ]
  },
  {
   "cell_type": "markdown",
   "metadata": {},
   "source": [
    "It is better not to perform scaling on this dataset. Why? (Check the article in the reading section)"
   ]
  },
  {
   "cell_type": "code",
   "execution_count": null,
   "metadata": {},
   "outputs": [],
   "source": [
    "# we'll use the Gaussian Naive Bayes classifier\n",
    "classifier = GaussianNB()\n"
   ]
  },
  {
   "cell_type": "code",
   "execution_count": null,
   "metadata": {},
   "outputs": [],
   "source": [
    "X_train"
   ]
  },
  {
   "cell_type": "markdown",
   "metadata": {},
   "source": [
    "## Cross-validation"
   ]
  },
  {
   "cell_type": "code",
   "execution_count": null,
   "metadata": {},
   "outputs": [],
   "source": [
    "# Add your code below this comment (Question #P203)\n",
    "# ----------------------------------\n",
    "# perform 10-fold *automated* cross-validation on the data\n",
    "scores = cross_val_score(classifier, X_train, y_train, cv=10)\n",
    "print(scores) # this should print out a 10-item array"
   ]
  },
  {
   "cell_type": "code",
   "execution_count": null,
   "metadata": {},
   "outputs": [],
   "source": [
    "np.mean(scores)"
   ]
  },
  {
   "cell_type": "markdown",
   "metadata": {},
   "source": [
    "## Fully train the model"
   ]
  },
  {
   "cell_type": "code",
   "execution_count": null,
   "metadata": {},
   "outputs": [],
   "source": [
    "# Add your code below this comment (Question #P204)\n",
    "# ----------------------------------\n",
    "# TODO: re-fit a model to the data\n",
    "classifier.fit(X_train, y_train)"
   ]
  },
  {
   "cell_type": "markdown",
   "metadata": {},
   "source": [
    "## Test final model performance"
   ]
  },
  {
   "cell_type": "code",
   "execution_count": null,
   "metadata": {},
   "outputs": [],
   "source": [
    "# GaussianNB.predict() returns class labels (integers)\n",
    "y_pred = classifier.predict(X_test)\n",
    "\n",
    "print(classification_report(y_test, y_pred))"
   ]
  },
  {
   "cell_type": "markdown",
   "metadata": {},
   "source": [
    "## Save model to disk via pickling"
   ]
  },
  {
   "cell_type": "code",
   "execution_count": null,
   "metadata": {},
   "outputs": [],
   "source": [
    "# Add your code below this comment (Question #P2105)\n",
    "# ----------------------------------\n",
    "# TODO: pickle model to disk as \"GaussianDigits.pkl\"\n",
    "import joblib\n",
    "joblib.dump(classifier, 'GaussianDigits.pkl')\n",
    "# (this will require an import - use either of the modules discussed in lab)"
   ]
  },
  {
   "cell_type": "markdown",
   "metadata": {},
   "source": [
    "## Load and re-test model"
   ]
  },
  {
   "cell_type": "code",
   "execution_count": null,
   "metadata": {},
   "outputs": [],
   "source": [
    "# Add your code below this comment (Question #P2106)\n",
    "# ----------------------------------\n",
    "# TODO: load/unpickle model\n",
    "new_clf = joblib.load('GaussianDigits.pkl')\n",
    "y_pred = new_clf.predict(X_test)\n",
    "\n",
    "print(classification_report(y_test, y_pred))"
   ]
  }
 ],
 "metadata": {
  "kernelspec": {
   "display_name": "Python 3",
   "language": "python",
   "name": "python3"
  },
  "language_info": {
   "codemirror_mode": {
    "name": "ipython",
    "version": 3
   },
   "file_extension": ".py",
   "mimetype": "text/x-python",
   "name": "python",
   "nbconvert_exporter": "python",
   "pygments_lexer": "ipython3",
   "version": "3.7.3"
  }
 },
 "nbformat": 4,
 "nbformat_minor": 4
}
