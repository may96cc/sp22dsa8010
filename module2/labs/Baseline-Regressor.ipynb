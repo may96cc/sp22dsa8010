{
 "cells": [
  {
   "cell_type": "markdown",
   "metadata": {},
   "source": [
    "## Baseline Regressor (DummyModel)\n",
    "\n",
    "The baseline regressor to make predictions with simple rules, possibly without using any features. "
   ]
  },
  {
   "cell_type": "code",
   "execution_count": null,
   "metadata": {},
   "outputs": [],
   "source": [
    "import numpy as np\n",
    "import pandas as pd\n",
    "from sklearn.model_selection import train_test_split\n",
    "from sklearn.datasets import load_diabetes\n",
    "from sklearn.dummy import DummyRegressor"
   ]
  },
  {
   "cell_type": "markdown",
   "metadata": {},
   "source": [
    "### Load datasets"
   ]
  },
  {
   "cell_type": "code",
   "execution_count": null,
   "metadata": {},
   "outputs": [],
   "source": [
    "# we are using sklearns toy data of diabetes\n",
    "dataset = load_diabetes()\n",
    "\n",
    "print(\"Dataset features\")\n",
    "print(dataset.feature_names)\n",
    "print(\"Total sample in data \", len(dataset.data))\n",
    "\n",
    "dataset.data[:5, :]"
   ]
  },
  {
   "cell_type": "markdown",
   "metadata": {},
   "source": [
    "### Dataset description"
   ]
  },
  {
   "cell_type": "code",
   "execution_count": null,
   "metadata": {},
   "outputs": [],
   "source": [
    "X_df = pd.DataFrame(dataset.data, columns=dataset.feature_names)\n",
    "X_df.head()"
   ]
  },
  {
   "cell_type": "code",
   "execution_count": null,
   "metadata": {},
   "outputs": [],
   "source": [
    "X_df.mean(axis=0)"
   ]
  },
  {
   "cell_type": "code",
   "execution_count": null,
   "metadata": {},
   "outputs": [],
   "source": [
    "np.linalg.norm(X_df, axis=0)"
   ]
  },
  {
   "cell_type": "markdown",
   "metadata": {},
   "source": [
    "All the features in the dataset has a unit norm. So, this dataset is normalized. "
   ]
  },
  {
   "cell_type": "markdown",
   "metadata": {},
   "source": [
    "### Dummy Regressor Strategies"
   ]
  },
  {
   "cell_type": "markdown",
   "metadata": {},
   "source": [
    "Ref: https://scikit-learn.org/stable/modules/generated/sklearn.dummy.DummyRegressor.html\n",
    "\n",
    "Dummy regressor have several strategies to do the prediction. The following four are supported in the sklearn `DummyRegressor` class. \n",
    "\n",
    "* “mean”: always predicts the mean of the training set\n",
    "* “median”: always predicts the median of the training set\n",
    "* “quantile”: always predicts a specified quantile of the training set, provided with the quantile parameter.\n",
    "* “constant”: always predicts a constant value that is provided by the user."
   ]
  },
  {
   "cell_type": "markdown",
   "metadata": {},
   "source": [
    "### Strategy: Mean\n",
    "\n",
    "This strategy uses mean value of the target variable for prediction. "
   ]
  },
  {
   "cell_type": "code",
   "execution_count": null,
   "metadata": {},
   "outputs": [],
   "source": [
    "x = dataset.data\n",
    "y = dataset.target\n",
    "\n",
    "# we choose the mean to get the best prediction.\n",
    "dummy_model = DummyRegressor(strategy='mean')\n",
    "\n",
    "dummy_model.fit(x,y)\n",
    "\n",
    "print(dummy_model.score(x,y))\n"
   ]
  },
  {
   "cell_type": "markdown",
   "metadata": {},
   "source": [
    "### Strategy: Median\n",
    "\n",
    "This strategy chooses median value of the target variable for prediction.\n"
   ]
  },
  {
   "cell_type": "code",
   "execution_count": null,
   "metadata": {},
   "outputs": [],
   "source": [
    "x = dataset.data\n",
    "y = dataset.target\n",
    "\n",
    "# we choose the mean to get the best prediction.\n",
    "dummy_model = DummyRegressor(strategy='median')\n",
    "\n",
    "dummy_model.fit(x,y)\n",
    "\n",
    "print(dummy_model.score(x,y))\n"
   ]
  },
  {
   "cell_type": "markdown",
   "metadata": {},
   "source": [
    "### Strategy: constant\n",
    "\n",
    "This strategy employs a user given value for prediction. \n"
   ]
  },
  {
   "cell_type": "code",
   "execution_count": null,
   "metadata": {},
   "outputs": [],
   "source": [
    "x = dataset.data\n",
    "y = dataset.target\n",
    "\n",
    "# we choose the mean to get the best prediction.\n",
    "dummy_model = DummyRegressor(strategy='constant', constant=3)\n",
    "\n",
    "dummy_model.fit(x,y)\n",
    "\n",
    "print(dummy_model.score(x,y))\n"
   ]
  },
  {
   "cell_type": "markdown",
   "metadata": {},
   "source": [
    "### Strategy: quantile\n",
    "\n",
    "Given a quntile, this strategy indentifies the corresponding value from the taget for making prediction. \n"
   ]
  },
  {
   "cell_type": "code",
   "execution_count": null,
   "metadata": {},
   "outputs": [],
   "source": [
    "x = dataset.data\n",
    "y = np.asarray(dataset.target, dtype='float')\n",
    "\n",
    "# we choose the best quantile to get the best prediction.\n",
    "dummy_model = DummyRegressor(strategy='quantile', quantile=0.554)\n",
    "\n",
    "dummy_model.fit(x,y)\n",
    "\n",
    "print(dummy_model.score(x,y))\n"
   ]
  }
 ],
 "metadata": {
  "kernelspec": {
   "display_name": "Python 3",
   "language": "python",
   "name": "python3"
  },
  "language_info": {
   "codemirror_mode": {
    "name": "ipython",
    "version": 3
   },
   "file_extension": ".py",
   "mimetype": "text/x-python",
   "name": "python",
   "nbconvert_exporter": "python",
   "pygments_lexer": "ipython3",
   "version": "3.7.3"
  }
 },
 "nbformat": 4,
 "nbformat_minor": 4
}
